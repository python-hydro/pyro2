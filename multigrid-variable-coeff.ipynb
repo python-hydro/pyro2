{
 "cells": [
  {
   "cell_type": "markdown",
   "metadata": {},
   "source": [
    "# Variable Coefficient Poisson"
   ]
  },
  {
   "cell_type": "markdown",
   "metadata": {},
   "source": [
    "We want to solve an equation of the form $\\nabla \\cdot (\\alpha \\nabla \\phi) = f$\n",
    "\n",
    "We'll do this with periodic boundary conditions.  Consider the coefficient $\\alpha$ of the form:\n",
    "\n",
    "$$\\alpha = 2 + \\cos(2 \\pi x) \\cos(2\\pi x)$$\n",
    "\n",
    "and the source, $f$:\n",
    "\n",
    "$$f = -16 \\pi^2 \\left ( \\cos(2 \\pi x) \\cos(2\\pi y) + 1 \\right ) \\sin(2\\pi x) \\sin(2\\pi y)$$\n",
    "\n",
    "The solution to this (with periodic BCs) is:\n",
    "\n",
    "$$\\phi = \\sin(2\\pi x) \\sin(2\\pi y)$$"
   ]
  },
  {
   "cell_type": "code",
   "execution_count": 1,
   "metadata": {
    "collapsed": false,
    "execution": {
     "iopub.execute_input": "2024-09-02T17:50:40.004385Z",
     "iopub.status.busy": "2024-09-02T17:50:40.003907Z",
     "iopub.status.idle": "2024-09-02T17:50:40.375838Z",
     "shell.execute_reply": "2024-09-02T17:50:40.375120Z"
    },
    "jupyter": {
     "outputs_hidden": false
    },
    "tags": []
   },
   "outputs": [],
   "source": [
    "import numpy as np\n",
    "import matplotlib.pyplot as plt"
   ]
  },
  {
   "cell_type": "markdown",
   "metadata": {},
   "source": [
    "## Setting up the solver"
   ]
  },
  {
   "cell_type": "code",
   "execution_count": 2,
   "metadata": {
    "execution": {
     "iopub.execute_input": "2024-09-02T17:50:40.378714Z",
     "iopub.status.busy": "2024-09-02T17:50:40.378369Z",
     "iopub.status.idle": "2024-09-02T17:50:40.411244Z",
     "shell.execute_reply": "2024-09-02T17:50:40.410568Z"
    },
    "tags": []
   },
   "outputs": [],
   "source": [
    "import pyro.multigrid.variable_coeff_MG as MG"
   ]
  },
  {
   "cell_type": "code",
   "execution_count": 3,
   "metadata": {
    "execution": {
     "iopub.execute_input": "2024-09-02T17:50:40.413740Z",
     "iopub.status.busy": "2024-09-02T17:50:40.413470Z",
     "iopub.status.idle": "2024-09-02T17:50:40.416787Z",
     "shell.execute_reply": "2024-09-02T17:50:40.416222Z"
    },
    "tags": []
   },
   "outputs": [],
   "source": [
    "def true(x, y):\n",
    "    return np.sin(2.0*np.pi*x)*np.sin(2.0*np.pi*y)"
   ]
  },
  {
   "cell_type": "code",
   "execution_count": 4,
   "metadata": {
    "execution": {
     "iopub.execute_input": "2024-09-02T17:50:40.419092Z",
     "iopub.status.busy": "2024-09-02T17:50:40.418891Z",
     "iopub.status.idle": "2024-09-02T17:50:40.422009Z",
     "shell.execute_reply": "2024-09-02T17:50:40.421388Z"
    },
    "tags": []
   },
   "outputs": [],
   "source": [
    "def alpha(x, y):\n",
    "    return 2.0 + np.cos(2.0*np.pi*x)*np.cos(2.0*np.pi*y)"
   ]
  },
  {
   "cell_type": "code",
   "execution_count": 5,
   "metadata": {
    "execution": {
     "iopub.execute_input": "2024-09-02T17:50:40.424511Z",
     "iopub.status.busy": "2024-09-02T17:50:40.424129Z",
     "iopub.status.idle": "2024-09-02T17:50:40.427585Z",
     "shell.execute_reply": "2024-09-02T17:50:40.427016Z"
    },
    "tags": []
   },
   "outputs": [],
   "source": [
    "def f(x, y):\n",
    "    return -16.0*np.pi**2*(np.cos(2*np.pi*x)*np.cos(2*np.pi*y) + 1) * \\\n",
    "        np.sin(2*np.pi*x)*np.sin(2*np.pi*y)"
   ]
  },
  {
   "cell_type": "markdown",
   "metadata": {},
   "source": [
    "Let's create a patch to store the coefficient $\\alpha$"
   ]
  },
  {
   "cell_type": "code",
   "execution_count": 6,
   "metadata": {
    "execution": {
     "iopub.execute_input": "2024-09-02T17:50:40.429813Z",
     "iopub.status.busy": "2024-09-02T17:50:40.429617Z",
     "iopub.status.idle": "2024-09-02T17:50:40.432610Z",
     "shell.execute_reply": "2024-09-02T17:50:40.432060Z"
    },
    "tags": []
   },
   "outputs": [],
   "source": [
    "from pyro.mesh import patch\n",
    "import pyro.mesh.boundary as bnd"
   ]
  },
  {
   "cell_type": "code",
   "execution_count": 7,
   "metadata": {
    "execution": {
     "iopub.execute_input": "2024-09-02T17:50:40.435008Z",
     "iopub.status.busy": "2024-09-02T17:50:40.434642Z",
     "iopub.status.idle": "2024-09-02T17:50:40.439246Z",
     "shell.execute_reply": "2024-09-02T17:50:40.438714Z"
    },
    "tags": []
   },
   "outputs": [],
   "source": [
    "N = 128\n",
    "\n",
    "g = patch.Grid2d(N, N, ng=1)\n",
    "d = patch.CellCenterData2d(g)\n",
    "bc_alpha = bnd.BC(xlb=\"periodic\", xrb=\"periodic\",\n",
    "                  ylb=\"periodic\", yrb=\"periodic\")\n",
    "d.register_var(\"alpha\", bc_alpha)\n",
    "d.create()"
   ]
  },
  {
   "cell_type": "markdown",
   "metadata": {},
   "source": [
    "Now we can fill the coefficient"
   ]
  },
  {
   "cell_type": "code",
   "execution_count": 8,
   "metadata": {
    "execution": {
     "iopub.execute_input": "2024-09-02T17:50:40.441611Z",
     "iopub.status.busy": "2024-09-02T17:50:40.441256Z",
     "iopub.status.idle": "2024-09-02T17:50:40.444939Z",
     "shell.execute_reply": "2024-09-02T17:50:40.444296Z"
    },
    "tags": []
   },
   "outputs": [],
   "source": [
    "a = d.get_var(\"alpha\")\n",
    "a[:, :] = alpha(g.x2d, g.y2d)"
   ]
  },
  {
   "cell_type": "markdown",
   "metadata": {},
   "source": [
    "With periodic BCs, solvability requires that $f$ sum to zero over the domain.  Let's check that."
   ]
  },
  {
   "cell_type": "code",
   "execution_count": 9,
   "metadata": {
    "execution": {
     "iopub.execute_input": "2024-09-02T17:50:40.447474Z",
     "iopub.status.busy": "2024-09-02T17:50:40.447105Z",
     "iopub.status.idle": "2024-09-02T17:50:40.451574Z",
     "shell.execute_reply": "2024-09-02T17:50:40.450922Z"
    },
    "tags": [
     "nbval-ignore-output"
    ]
   },
   "outputs": [
    {
     "name": "stdout",
     "output_type": "stream",
     "text": [
      "rhs sum:       2.07633187e-12\n"
     ]
    }
   ],
   "source": [
    "rhs = f(g.x2d, g.y2d)\n",
    "print(f\"rhs sum: {np.sum(rhs[g.ilo:g.ihi+1, g.jlo:g.jhi+1]):20.10g}\")"
   ]
  },
  {
   "cell_type": "markdown",
   "metadata": {},
   "source": [
    "Now we can create the multigrid object"
   ]
  },
  {
   "cell_type": "code",
   "execution_count": 10,
   "metadata": {
    "execution": {
     "iopub.execute_input": "2024-09-02T17:50:40.453894Z",
     "iopub.status.busy": "2024-09-02T17:50:40.453537Z",
     "iopub.status.idle": "2024-09-02T17:50:40.463635Z",
     "shell.execute_reply": "2024-09-02T17:50:40.462980Z"
    },
    "tags": []
   },
   "outputs": [
    {
     "name": "stdout",
     "output_type": "stream",
     "text": [
      "cc data: nx = 2, ny = 2, ng = 1\n",
      "         nvars = 4\n",
      "         variables:\n",
      "               v: min:    0.0000000000    max:    0.0000000000\n",
      "                  BCs: -x: periodic     +x: periodic     -y: periodic     +y: periodic    \n",
      "               f: min:    0.0000000000    max:    0.0000000000\n",
      "                  BCs: -x: periodic     +x: periodic     -y: periodic     +y: periodic    \n",
      "               r: min:    0.0000000000    max:    0.0000000000\n",
      "                  BCs: -x: periodic     +x: periodic     -y: periodic     +y: periodic    \n",
      "          coeffs: min:    0.0000000000    max:    0.0000000000\n",
      "                  BCs: -x: periodic     +x: periodic     -y: periodic     +y: periodic    \n",
      "\n",
      "cc data: nx = 4, ny = 4, ng = 1\n",
      "         nvars = 4\n",
      "         variables:\n",
      "               v: min:    0.0000000000    max:    0.0000000000\n",
      "                  BCs: -x: periodic     +x: periodic     -y: periodic     +y: periodic    \n",
      "               f: min:    0.0000000000    max:    0.0000000000\n",
      "                  BCs: -x: periodic     +x: periodic     -y: periodic     +y: periodic    \n",
      "               r: min:    0.0000000000    max:    0.0000000000\n",
      "                  BCs: -x: periodic     +x: periodic     -y: periodic     +y: periodic    \n",
      "          coeffs: min:    0.0000000000    max:    0.0000000000\n",
      "                  BCs: -x: periodic     +x: periodic     -y: periodic     +y: periodic    \n",
      "\n",
      "cc data: nx = 8, ny = 8, ng = 1\n",
      "         nvars = 4\n",
      "         variables:\n",
      "               v: min:    0.0000000000    max:    0.0000000000\n",
      "                  BCs: -x: periodic     +x: periodic     -y: periodic     +y: periodic    \n",
      "               f: min:    0.0000000000    max:    0.0000000000\n",
      "                  BCs: -x: periodic     +x: periodic     -y: periodic     +y: periodic    \n",
      "               r: min:    0.0000000000    max:    0.0000000000\n",
      "                  BCs: -x: periodic     +x: periodic     -y: periodic     +y: periodic    \n",
      "          coeffs: min:    0.0000000000    max:    0.0000000000\n",
      "                  BCs: -x: periodic     +x: periodic     -y: periodic     +y: periodic    \n",
      "\n",
      "cc data: nx = 16, ny = 16, ng = 1\n",
      "         nvars = 4\n",
      "         variables:\n",
      "               v: min:    0.0000000000    max:    0.0000000000\n",
      "                  BCs: -x: periodic     +x: periodic     -y: periodic     +y: periodic    \n",
      "               f: min:    0.0000000000    max:    0.0000000000\n",
      "                  BCs: -x: periodic     +x: periodic     -y: periodic     +y: periodic    \n",
      "               r: min:    0.0000000000    max:    0.0000000000\n",
      "                  BCs: -x: periodic     +x: periodic     -y: periodic     +y: periodic    \n",
      "          coeffs: min:    0.0000000000    max:    0.0000000000\n",
      "                  BCs: -x: periodic     +x: periodic     -y: periodic     +y: periodic    \n",
      "\n",
      "cc data: nx = 32, ny = 32, ng = 1\n",
      "         nvars = 4\n",
      "         variables:\n",
      "               v: min:    0.0000000000    max:    0.0000000000\n",
      "                  BCs: -x: periodic     +x: periodic     -y: periodic     +y: periodic    \n",
      "               f: min:    0.0000000000    max:    0.0000000000\n",
      "                  BCs: -x: periodic     +x: periodic     -y: periodic     +y: periodic    \n",
      "               r: min:    0.0000000000    max:    0.0000000000\n",
      "                  BCs: -x: periodic     +x: periodic     -y: periodic     +y: periodic    \n",
      "          coeffs: min:    0.0000000000    max:    0.0000000000\n",
      "                  BCs: -x: periodic     +x: periodic     -y: periodic     +y: periodic    \n",
      "\n",
      "cc data: nx = 64, ny = 64, ng = 1\n",
      "         nvars = 4\n",
      "         variables:\n",
      "               v: min:    0.0000000000    max:    0.0000000000\n",
      "                  BCs: -x: periodic     +x: periodic     -y: periodic     +y: periodic    \n",
      "               f: min:    0.0000000000    max:    0.0000000000\n",
      "                  BCs: -x: periodic     +x: periodic     -y: periodic     +y: periodic    \n",
      "               r: min:    0.0000000000    max:    0.0000000000\n",
      "                  BCs: -x: periodic     +x: periodic     -y: periodic     +y: periodic    \n",
      "          coeffs: min:    0.0000000000    max:    0.0000000000\n",
      "                  BCs: -x: periodic     +x: periodic     -y: periodic     +y: periodic    \n",
      "\n",
      "cc data: nx = 128, ny = 128, ng = 1\n",
      "         nvars = 4\n",
      "         variables:\n",
      "               v: min:    0.0000000000    max:    0.0000000000\n",
      "                  BCs: -x: periodic     +x: periodic     -y: periodic     +y: periodic    \n",
      "               f: min:    0.0000000000    max:    0.0000000000\n",
      "                  BCs: -x: periodic     +x: periodic     -y: periodic     +y: periodic    \n",
      "               r: min:    0.0000000000    max:    0.0000000000\n",
      "                  BCs: -x: periodic     +x: periodic     -y: periodic     +y: periodic    \n",
      "          coeffs: min:    0.0000000000    max:    0.0000000000\n",
      "                  BCs: -x: periodic     +x: periodic     -y: periodic     +y: periodic    \n",
      "\n"
     ]
    }
   ],
   "source": [
    "mg = MG.VarCoeffCCMG2d(N, N,\n",
    "                       xl_BC_type=\"periodic\", yl_BC_type=\"periodic\",\n",
    "                       xr_BC_type=\"periodic\", yr_BC_type=\"periodic\",\n",
    "                       coeffs=a, coeffs_bc=bc_alpha,\n",
    "                       verbose=1, vis=0, true_function=true)"
   ]
  },
  {
   "cell_type": "markdown",
   "metadata": {},
   "source": [
    "Initialize the solution to 0"
   ]
  },
  {
   "cell_type": "code",
   "execution_count": 11,
   "metadata": {
    "execution": {
     "iopub.execute_input": "2024-09-02T17:50:40.466102Z",
     "iopub.status.busy": "2024-09-02T17:50:40.465742Z",
     "iopub.status.idle": "2024-09-02T17:50:40.468827Z",
     "shell.execute_reply": "2024-09-02T17:50:40.468180Z"
    },
    "tags": []
   },
   "outputs": [],
   "source": [
    "mg.init_zeros()"
   ]
  },
  {
   "cell_type": "markdown",
   "metadata": {},
   "source": [
    "Now initialize the RHS"
   ]
  },
  {
   "cell_type": "code",
   "execution_count": 12,
   "metadata": {
    "execution": {
     "iopub.execute_input": "2024-09-02T17:50:40.471227Z",
     "iopub.status.busy": "2024-09-02T17:50:40.471027Z",
     "iopub.status.idle": "2024-09-02T17:50:40.475759Z",
     "shell.execute_reply": "2024-09-02T17:50:40.475112Z"
    },
    "tags": [
     "nbval-ignore-output"
    ]
   },
   "outputs": [
    {
     "name": "stdout",
     "output_type": "stream",
     "text": [
      "Source norm =  81.3868428575047\n"
     ]
    }
   ],
   "source": [
    "rhs = f(mg.x2d, mg.y2d)\n",
    "mg.init_RHS(rhs)"
   ]
  },
  {
   "cell_type": "markdown",
   "metadata": {},
   "source": [
    "## Solving the system"
   ]
  },
  {
   "cell_type": "code",
   "execution_count": 13,
   "metadata": {
    "execution": {
     "iopub.execute_input": "2024-09-02T17:50:40.478329Z",
     "iopub.status.busy": "2024-09-02T17:50:40.477820Z",
     "iopub.status.idle": "2024-09-02T17:50:40.894302Z",
     "shell.execute_reply": "2024-09-02T17:50:40.893689Z"
    },
    "tags": [
     "nbval-ignore-output"
    ]
   },
   "outputs": [
    {
     "name": "stdout",
     "output_type": "stream",
     "text": [
      "source norm =  81.3868428575047\n",
      "<<< beginning V-cycle (cycle 1) >>>\n",
      "\n",
      "  level =  6, nx =  128, residual change:     81.3868 →     112.091\n",
      "  level =  5, nx =   64, residual change:     79.2048 →      101.02\n",
      "  level =  4, nx =   32, residual change:     71.2411 →     68.0705\n",
      "  level =  3, nx =   16, residual change:     47.6577 →     14.4578\n",
      "  level =  2, nx =    8, residual change:      9.8448 →   0.0171409\n",
      "  level =  1, nx =    4, residual change:   0.0106141 → 1.69329e-16\n",
      "  bottom solve\n",
      "  level =  1, nx =    4, residual change: 3.07629e-16 → 3.07629e-16\n",
      "  level =  2, nx =    8, residual change:   0.0168243 →   0.0168243\n",
      "  level =  3, nx =   16, residual change:     14.4901 →     14.4901\n",
      "  level =  4, nx =   32, residual change:      69.371 →      69.371\n",
      "  level =  5, nx =   64, residual change:     103.884 →     103.884\n",
      "  level =  6, nx =  128, residual change:     115.511 →     115.511\n",
      "cycle 1: relative err = 1.0000000000000007, residual err = 0.025573219961900512\n",
      "\n",
      "<<< beginning V-cycle (cycle 2) >>>\n",
      "\n",
      "  level =  6, nx =  128, residual change:     2.08132 →     2.02861\n",
      "  level =  5, nx =   64, residual change:     1.43441 →     1.83684\n",
      "  level =  4, nx =   32, residual change:     1.29871 →     1.24144\n",
      "  level =  3, nx =   16, residual change:    0.877452 →    0.256041\n",
      "  level =  2, nx =    8, residual change:    0.180588 → 0.000272285\n",
      "  level =  1, nx =    4, residual change: 0.000187447 → 6.55867e-17\n",
      "  bottom solve\n",
      "  level =  1, nx =    4, residual change: 1.19217e-16 → 1.19217e-16\n",
      "  level =  2, nx =    8, residual change: 0.000298554 → 0.000298554\n",
      "  level =  3, nx =   16, residual change:     0.33718 →     0.33718\n",
      "  level =  4, nx =   32, residual change:     1.72809 →     1.72809\n",
      "  level =  5, nx =   64, residual change:     2.60971 →     2.60971\n",
      "  level =  6, nx =  128, residual change:     2.89721 →     2.89721\n",
      "cycle 2: relative err = 2.1803634390217064, residual err = 0.0006486396426301177\n",
      "\n",
      "<<< beginning V-cycle (cycle 3) >>>\n",
      "\n",
      "  level =  6, nx =  128, residual change:   0.0527907 →   0.0515129\n",
      "  level =  5, nx =   64, residual change:   0.0364241 →   0.0468113\n",
      "  level =  4, nx =   32, residual change:    0.033097 →   0.0318323\n",
      "  level =  3, nx =   16, residual change:   0.0224975 →  0.00656631\n",
      "  level =  2, nx =    8, residual change:  0.00463131 → 6.95479e-06\n",
      "  level =  1, nx =    4, residual change:  4.7921e-06 → 3.47155e-16\n",
      "  bottom solve\n",
      "  level =  1, nx =    4, residual change: 6.30821e-16 → 6.30821e-16\n",
      "  level =  2, nx =    8, residual change: 7.63309e-06 → 7.63309e-06\n",
      "  level =  3, nx =   16, residual change:  0.00864876 →  0.00864876\n",
      "  level =  4, nx =   32, residual change:   0.0442789 →   0.0442789\n",
      "  level =  5, nx =   64, residual change:   0.0665472 →   0.0665472\n"
     ]
    },
    {
     "name": "stdout",
     "output_type": "stream",
     "text": [
      "  level =  6, nx =  128, residual change:   0.0736819 →   0.0736819\n",
      "cycle 3: relative err = 0.04844393523115633, residual err = 1.659245815001406e-05\n",
      "\n",
      "<<< beginning V-cycle (cycle 4) >>>\n",
      "\n",
      "  level =  6, nx =  128, residual change:  0.00135041 →  0.00131762\n",
      "  level =  5, nx =   64, residual change: 0.000931668 →  0.00119765\n",
      "  level =  4, nx =   32, residual change: 0.000846751 → 0.000816239\n",
      "  level =  3, nx =   16, residual change: 0.000576837 → 0.000168502\n",
      "  level =  2, nx =    8, residual change:  0.00011884 → 1.78399e-07\n"
     ]
    },
    {
     "name": "stdout",
     "output_type": "stream",
     "text": [
      "  level =  1, nx =    4, residual change: 1.22925e-07 →  2.1827e-16\n",
      "  bottom solve\n"
     ]
    },
    {
     "name": "stdout",
     "output_type": "stream",
     "text": [
      "  level =  1, nx =    4, residual change: 3.96622e-16 → 3.96622e-16\n",
      "  level =  2, nx =    8, residual change: 1.95801e-07 → 1.95801e-07\n",
      "  level =  3, nx =   16, residual change: 0.000221902 → 0.000221902\n",
      "  level =  4, nx =   32, residual change:   0.0011347 →   0.0011347\n",
      "  level =  5, nx =   64, residual change:  0.00170278 →  0.00170278\n",
      "  level =  6, nx =  128, residual change:  0.00188597 →  0.00188597\n",
      "cycle 4: relative err = 0.0012759605329324085, residual err = 4.2728946362388976e-07\n",
      "\n",
      "<<< beginning V-cycle (cycle 5) >>>\n",
      "\n",
      "  level =  6, nx =  128, residual change: 3.47757e-05 → 3.38943e-05\n",
      "  level =  5, nx =   64, residual change: 2.39659e-05 →   3.073e-05\n",
      "  level =  4, nx =   32, residual change:  2.1726e-05 → 2.09217e-05\n",
      "  level =  3, nx =   16, residual change: 1.47845e-05 → 4.32098e-06\n",
      "  level =  2, nx =    8, residual change: 3.04737e-06 → 4.57173e-09\n",
      "  level =  1, nx =    4, residual change: 3.15043e-09 → 4.90471e-17\n",
      "  bottom solve\n",
      "  level =  1, nx =    4, residual change: 8.91242e-17 → 8.91242e-17\n",
      "  level =  2, nx =    8, residual change: 5.01821e-09 → 5.01821e-09\n",
      "  level =  3, nx =   16, residual change: 5.68972e-06 → 5.68972e-06\n",
      "  level =  4, nx =   32, residual change: 2.90707e-05 → 2.90707e-05\n",
      "  level =  5, nx =   64, residual change: 4.36992e-05 → 4.36992e-05\n",
      "  level =  6, nx =  128, residual change: 4.85557e-05 → 4.85557e-05\n",
      "cycle 5: relative err = 3.301203447716335e-05, residual err = 1.1068868945958364e-08\n",
      "\n",
      "<<< beginning V-cycle (cycle 6) >>>\n",
      "\n",
      "  level =  6, nx =  128, residual change:  9.0086e-07 → 8.76274e-07\n",
      "  level =  5, nx =   64, residual change: 6.19593e-07 → 7.90474e-07\n",
      "  level =  4, nx =   32, residual change: 5.58852e-07 → 5.36009e-07\n",
      "  level =  3, nx =   16, residual change: 3.78756e-07 → 1.10732e-07\n",
      "  level =  2, nx =    8, residual change: 7.80911e-08 → 1.17095e-10\n",
      "  level =  1, nx =    4, residual change: 8.06977e-11 → 5.69861e-16\n",
      "  bottom solve\n",
      "  level =  1, nx =    4, residual change:  1.0355e-15 →  1.0355e-15\n",
      "  level =  2, nx =    8, residual change: 1.28541e-10 → 1.28541e-10\n",
      "  level =  3, nx =   16, residual change: 1.45795e-07 → 1.45795e-07\n",
      "  level =  4, nx =   32, residual change:  7.4452e-07 →  7.4452e-07\n",
      "  level =  5, nx =   64, residual change: 1.12439e-06 → 1.12439e-06\n",
      "  level =  6, nx =  128, residual change: 1.25658e-06 → 1.25658e-06\n",
      "cycle 6: relative err = 8.544249588823554e-07, residual err = 2.88200772432267e-10\n",
      "\n",
      "<<< beginning V-cycle (cycle 7) >>>\n",
      "\n",
      "  level =  6, nx =  128, residual change: 2.34558e-08 → 2.27531e-08\n",
      "  level =  5, nx =   64, residual change:  1.6088e-08 → 2.03781e-08\n",
      "  level =  4, nx =   32, residual change: 1.44068e-08 → 1.37252e-08\n",
      "  level =  3, nx =   16, residual change: 9.69812e-09 → 2.83563e-09\n",
      "  level =  2, nx =    8, residual change: 1.99971e-09 → 2.99732e-12\n",
      "  level =  1, nx =    4, residual change: 2.06576e-12 → 1.74907e-17\n",
      "  bottom solve\n"
     ]
    },
    {
     "name": "stdout",
     "output_type": "stream",
     "text": [
      "  level =  1, nx =    4, residual change: 3.17826e-17 → 3.17826e-17\n",
      "  level =  2, nx =    8, residual change: 3.29051e-12 → 3.29051e-12\n",
      "  level =  3, nx =   16, residual change: 3.73325e-09 → 3.73325e-09\n",
      "  level =  4, nx =   32, residual change: 1.90594e-08 → 1.90594e-08\n",
      "  level =  5, nx =   64, residual change: 2.89959e-08 → 2.89959e-08\n",
      "  level =  6, nx =  128, residual change: 3.26638e-08 → 3.26638e-08\n",
      "cycle 7: relative err = 2.210681933627904e-08, residual err = 7.534885150074738e-12\n",
      "\n"
     ]
    }
   ],
   "source": [
    "mg.solve(rtol=1.e-11)"
   ]
  },
  {
   "cell_type": "markdown",
   "metadata": {},
   "source": [
    "## Visualizing the solution"
   ]
  },
  {
   "cell_type": "code",
   "execution_count": 14,
   "metadata": {
    "execution": {
     "iopub.execute_input": "2024-09-02T17:50:40.897029Z",
     "iopub.status.busy": "2024-09-02T17:50:40.896525Z",
     "iopub.status.idle": "2024-09-02T17:50:40.899672Z",
     "shell.execute_reply": "2024-09-02T17:50:40.899132Z"
    },
    "tags": []
   },
   "outputs": [],
   "source": [
    "v = mg.get_solution()"
   ]
  },
  {
   "cell_type": "code",
   "execution_count": 15,
   "metadata": {
    "execution": {
     "iopub.execute_input": "2024-09-02T17:50:40.902085Z",
     "iopub.status.busy": "2024-09-02T17:50:40.901710Z",
     "iopub.status.idle": "2024-09-02T17:50:41.077466Z",
     "shell.execute_reply": "2024-09-02T17:50:41.076788Z"
    },
    "tags": [
     "nbval-ignore-output"
    ]
   },
   "outputs": [
    {
     "data": {
      "text/plain": [
       "<matplotlib.colorbar.Colorbar at 0x7fb95c6f3940>"
      ]
     },
     "execution_count": 15,
     "metadata": {},
     "output_type": "execute_result"
    },
    {
     "data": {
      "image/png": "[encoded data removed]",
      "text/plain": [
       "<Figure size 640x480 with 2 Axes>"
      ]
     },
     "metadata": {},
     "output_type": "display_data"
    }
   ],
   "source": [
    "fig, ax = plt.subplots()\n",
    "\n",
    "im = ax.imshow(np.transpose(v.v()),\n",
    "              interpolation=\"nearest\", origin=\"lower\",\n",
    "              extent=[mg.xmin, mg.xmax, mg.ymin, mg.ymax])\n",
    "fig.colorbar(im, ax=ax)"
   ]
  },
  {
   "cell_type": "markdown",
   "metadata": {},
   "source": [
    "## Comparing to the exact solution"
   ]
  },
  {
   "cell_type": "code",
   "execution_count": 16,
   "metadata": {
    "execution": {
     "iopub.execute_input": "2024-09-02T17:50:41.080239Z",
     "iopub.status.busy": "2024-09-02T17:50:41.079754Z",
     "iopub.status.idle": "2024-09-02T17:50:41.083326Z",
     "shell.execute_reply": "2024-09-02T17:50:41.082700Z"
    },
    "tags": []
   },
   "outputs": [],
   "source": [
    "phi = true(mg.x2d, mg.y2d)"
   ]
  },
  {
   "cell_type": "markdown",
   "metadata": {},
   "source": [
    "With periodic BCs all around, there is nothing to normalize the solution, so we subtract off the average of $\\phi$ from the MG solution to ensure it is normalized (we'll do the same with the true solution, just to be sure)"
   ]
  },
  {
   "cell_type": "code",
   "execution_count": 17,
   "metadata": {
    "execution": {
     "iopub.execute_input": "2024-09-02T17:50:41.085760Z",
     "iopub.status.busy": "2024-09-02T17:50:41.085391Z",
     "iopub.status.idle": "2024-09-02T17:50:41.089101Z",
     "shell.execute_reply": "2024-09-02T17:50:41.088468Z"
    },
    "tags": []
   },
   "outputs": [],
   "source": [
    "e = v - np.sum(v.v()) / N**2 - (phi - np.sum(phi[mg.ilo:mg.ihi+1, mg.jlo:mg.jhi+1]) / N**2)"
   ]
  },
  {
   "cell_type": "markdown",
   "metadata": {},
   "source": [
    "Now we can look at the norm of the error:"
   ]
  },
  {
   "cell_type": "code",
   "execution_count": 18,
   "metadata": {
    "execution": {
     "iopub.execute_input": "2024-09-02T17:50:41.091459Z",
     "iopub.status.busy": "2024-09-02T17:50:41.091100Z",
     "iopub.status.idle": "2024-09-02T17:50:41.094716Z",
     "shell.execute_reply": "2024-09-02T17:50:41.094037Z"
    },
    "tags": []
   },
   "outputs": [
    {
     "name": "stdout",
     "output_type": "stream",
     "text": [
      "error =      9.754984685e-05\n"
     ]
    }
   ],
   "source": [
    "error_norm = e.norm()\n",
    "print(f\"error = {error_norm:20.10g}\")"
   ]
  },
  {
   "cell_type": "markdown",
   "metadata": {},
   "source": [
    "and we can plot the error"
   ]
  },
  {
   "cell_type": "code",
   "execution_count": 19,
   "metadata": {
    "execution": {
     "iopub.execute_input": "2024-09-02T17:50:41.097126Z",
     "iopub.status.busy": "2024-09-02T17:50:41.096756Z",
     "iopub.status.idle": "2024-09-02T17:50:41.260728Z",
     "shell.execute_reply": "2024-09-02T17:50:41.260000Z"
    },
    "tags": [
     "nbval-ignore-output"
    ]
   },
   "outputs": [
    {
     "data": {
      "text/plain": [
       "<matplotlib.colorbar.Colorbar at 0x7fb95c3ff2e0>"
      ]
     },
     "execution_count": 19,
     "metadata": {},
     "output_type": "execute_result"
    },
    {
     "data": {
      "image/png": "[encoded data removed]",
      "text/plain": [
       "<Figure size 640x480 with 2 Axes>"
      ]
     },
     "metadata": {},
     "output_type": "display_data"
    }
   ],
   "source": [
    "fig, ax = plt.subplots()\n",
    "\n",
    "im = ax.imshow(np.transpose(e.v()),\n",
    "               interpolation=\"nearest\", origin=\"lower\",\n",
    "               extent=[mg.xmin, mg.xmax, mg.ymin, mg.ymax])\n",
    "fig.colorbar(im, ax=ax)"
   ]
  }
 ],
 "metadata": {
  "kernelspec": {
   "display_name": "Python 3 (ipykernel)",
   "language": "python",
   "name": "python3"
  },
  "language_info": {
   "codemirror_mode": {
    "name": "ipython",
    "version": 3
   },
   "file_extension": ".py",
   "mimetype": "text/x-python",
   "name": "python",
   "nbconvert_exporter": "python",
   "pygments_lexer": "ipython3",
   "version": "3.10.14"
  }
 },
 "nbformat": 4,
 "nbformat_minor": 4
}
