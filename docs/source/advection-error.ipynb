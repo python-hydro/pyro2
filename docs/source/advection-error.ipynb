{
 "cells": [
  {
   "cell_type": "markdown",
   "id": "b0acb1f3-767d-45a3-97d6-e01d92fc2a02",
   "metadata": {},
   "source": [
    "# Error Measurement of the `advection_fv4` Solver"
   ]
  },
  {
   "cell_type": "markdown",
   "id": "23bc1907-5be9-4df6-ba36-d504f4198f00",
   "metadata": {},
   "source": [
    "We can test the `advection_fv4` solver by running the `smooth` test problem (a Gaussian profile) for one period (with $u = v = 1$) and comparing the final profile to the initial conditions.  Linear advection should not alter the shape, so any difference is the error in the method."
   ]
  },
  {
   "cell_type": "code",
   "execution_count": 1,
   "id": "a0c724f7-80f8-4370-a710-46179544ef0c",
   "metadata": {},
   "outputs": [],
   "source": [
    "from pyro import Pyro"
   ]
  },
  {
   "cell_type": "markdown",
   "id": "8c99540b-9305-455d-b272-b8b1cd00cf41",
   "metadata": {},
   "source": [
    "We'll run at several resolutions and keep track of the error for each"
   ]
  },
  {
   "cell_type": "code",
   "execution_count": 2,
   "id": "d57770ad-f3a0-473b-af9b-409f17d2fcf0",
   "metadata": {},
   "outputs": [],
   "source": [
    "nzones = [16, 32, 64, 128, 256]\n",
    "err = []"
   ]
  },
  {
   "cell_type": "markdown",
   "id": "b435e3ca-bc5a-4b31-adb5-c1cabc39567e",
   "metadata": {},
   "source": [
    "We need to bump up the number of steps in the simulation to ensure the higher resolution runs finish."
   ]
  },
  {
   "cell_type": "code",
   "execution_count": 3,
   "id": "6c720f78-f0d5-4e27-9d25-15bb879036f6",
   "metadata": {},
   "outputs": [],
   "source": [
    "params_all = {\"driver.cfl\": 0.5, \"driver.max_steps\": 5000}"
   ]
  },
  {
   "cell_type": "markdown",
   "id": "48a5721d-ec51-462f-887d-9352f93727a3",
   "metadata": {},
   "source": [
    "Now we'll loop over resolutions, setup the problem and store the initial conditions,\n",
    "evolve, and the compute the error compared to the initial conditions."
   ]
  },
  {
   "cell_type": "code",
   "execution_count": 4,
   "id": "e0f55d5c-f57b-4a14-ba42-c96144356d88",
   "metadata": {},
   "outputs": [
    {
     "name": "stdout",
     "output_type": "stream",
     "text": [
      "N = 16, number of steps = 64\n",
      "N = 32, number of steps = 128\n",
      "N = 64, number of steps = 256\n",
      "N = 128, number of steps = 512\n",
      "N = 256, number of steps = 1024\n"
     ]
    }
   ],
   "source": [
    "for N in nzones:\n",
    "    params = {\"mesh.nx\": N, \"mesh.ny\": N}\n",
    "    p = Pyro(\"advection_fv4\")\n",
    "    p.initialize_problem(problem_name=\"smooth\", inputs_dict=params|params_all)\n",
    "    a_init = p.get_var(\"density\").copy()\n",
    "    p.run_sim()\n",
    "    print(f\"N = {N}, number of steps = {p.sim.n}\")\n",
    "    a = p.get_var(\"density\")\n",
    "    err.append((a - a_init).norm())"
   ]
  },
  {
   "cell_type": "markdown",
   "id": "c64cf158-ae97-4261-b309-bbafa7b97ad8",
   "metadata": {},
   "source": [
    "Here are the errors--we see that the error is decreasing by a factor of ~ 16 as we double\n",
    "the number of zones, as expected for the 4th order method."
   ]
  },
  {
   "cell_type": "code",
   "execution_count": 5,
   "id": "365e9dca-ae04-4519-955a-f5f1a807d580",
   "metadata": {},
   "outputs": [
    {
     "data": {
      "text/plain": [
       "[0.02732210851664811,\n",
       " 0.004572165056269441,\n",
       " 0.0003804503479700414,\n",
       " 2.425271389680081e-05,\n",
       " 1.5233260541432057e-06]"
      ]
     },
     "execution_count": 5,
     "metadata": {},
     "output_type": "execute_result"
    }
   ],
   "source": [
    "err"
   ]
  },
  {
   "cell_type": "markdown",
   "id": "ad07592d-0cbf-4c1f-b28d-51cc793f99a1",
   "metadata": {},
   "source": [
    "Let's plot the convergence, along with a line indicating ideal 4th order convergence."
   ]
  },
  {
   "cell_type": "code",
   "execution_count": 6,
   "id": "2dd93e31-ac10-485c-ab4c-9dab14af1ad9",
   "metadata": {},
   "outputs": [
    {
     "data": {
      "text/plain": [
       "(10, 500)"
      ]
     },
     "execution_count": 6,
     "metadata": {},
     "output_type": "execute_result"
    },
    {
     "data": {
      "image/png": "[encoded data removed]",
      "text/plain": [
       "<Figure size 640x480 with 1 Axes>"
      ]
     },
     "metadata": {},
     "output_type": "display_data"
    }
   ],
   "source": [
    "import matplotlib.pyplot as plt\n",
    "\n",
    "fig, ax = plt.subplots()\n",
    "ax.loglog(nzones, err, \"x\")\n",
    "ax.loglog([nzones[0], nzones[-1]],\n",
    "          [err[0], err[0] * (nzones[0] / nzones[-1])**4], ls=\":\")\n",
    "ax.set_xlabel(\"number of zones\")\n",
    "ax.set_ylabel(\"error\")\n",
    "ax.set_xlim(10, 500)"
   ]
  },
  {
   "cell_type": "markdown",
   "id": "2ab99519-1b3b-480e-819a-30b3c1397fce",
   "metadata": {},
   "source": [
    "At the lowest resolution, we are not really resolving the initial conditions well, so the convergence from 16 to 32 zones is not ideal.  The points at N > 32 follow the ideal scaling trend well."
   ]
  }
 ],
 "metadata": {
  "kernelspec": {
   "display_name": "Python 3 (ipykernel)",
   "language": "python",
   "name": "python3"
  },
  "language_info": {
   "codemirror_mode": {
    "name": "ipython",
    "version": 3
   },
   "file_extension": ".py",
   "mimetype": "text/x-python",
   "name": "python",
   "nbconvert_exporter": "python",
   "pygments_lexer": "ipython3",
   "version": "3.12.5"
  }
 },
 "nbformat": 4,
 "nbformat_minor": 5
}
