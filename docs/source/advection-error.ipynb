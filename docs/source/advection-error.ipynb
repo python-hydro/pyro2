{
 "cells": [
  {
   "cell_type": "markdown",
   "id": "b0acb1f3-767d-45a3-97d6-e01d92fc2a02",
   "metadata": {},
   "source": [
    "# Error Measurement of the `advection_fv4` Solver"
   ]
  },
  {
   "cell_type": "code",
   "execution_count": 1,
   "id": "a0c724f7-80f8-4370-a710-46179544ef0c",
   "metadata": {},
   "outputs": [],
   "source": [
    "from pyro.pyro_sim import Pyro"
   ]
  },
  {
   "cell_type": "code",
   "execution_count": 26,
   "id": "b7748433-66ad-4d2c-8ba7-68b98fe9a142",
   "metadata": {},
   "outputs": [
    {
     "name": "stdout",
     "output_type": "stream",
     "text": [
      "\u001b[1mpyro ...\u001b[0m\n",
      "\u001b[1minitializing the smooth advection problem...\u001b[0m\n",
      "final time = 1.0\n",
      "\u001b[1mpyro ...\u001b[0m\n",
      "\u001b[1minitializing the smooth advection problem...\u001b[0m\n",
      "final time = 1.0\n",
      "\u001b[1mpyro ...\u001b[0m\n",
      "\u001b[1minitializing the smooth advection problem...\u001b[0m\n",
      "final time = 1.0\n",
      "\u001b[1mpyro ...\u001b[0m\n",
      "\u001b[1minitializing the smooth advection problem...\u001b[0m\n",
      "final time = 1.0\n"
     ]
    }
   ],
   "source": [
    "nzones = [32, 64, 128, 256]\n",
    "err = []\n",
    "\n",
    "for N in nzones:\n",
    "    params = {\"driver.cfl\": 0.5,\n",
    "              \"mesh.nx\": N,\n",
    "              \"mesh.ny\": N,\n",
    "              \"driver.verbose\": 0,\n",
    "              \"driver.max_steps\": 2000}\n",
    "    p = Pyro(\"advection_fv4\")\n",
    "    p.initialize_problem(problem_name=\"smooth\", inputs_dict=params)\n",
    "    a_init = p.get_var(\"density\").copy()\n",
    "    p.run_sim()\n",
    "    print(f\"final time = {p.sim.cc_data.t}\")\n",
    "    a = p.get_var(\"density\")\n",
    "    err.append((a - a_init).norm())"
   ]
  },
  {
   "cell_type": "code",
   "execution_count": 27,
   "id": "365e9dca-ae04-4519-955a-f5f1a807d580",
   "metadata": {},
   "outputs": [
    {
     "data": {
      "text/plain": [
       "[0.004572165056269441,\n",
       " 0.0003804503479700414,\n",
       " 2.425271389680081e-05,\n",
       " 1.5233260541432057e-06]"
      ]
     },
     "execution_count": 27,
     "metadata": {},
     "output_type": "execute_result"
    }
   ],
   "source": [
    "err"
   ]
  },
  {
   "cell_type": "code",
   "execution_count": 33,
   "id": "2dd93e31-ac10-485c-ab4c-9dab14af1ad9",
   "metadata": {},
   "outputs": [
    {
     "data": {
      "text/plain": [
       "[<matplotlib.lines.Line2D at 0x7f80157a7a10>]"
      ]
     },
     "execution_count": 33,
     "metadata": {},
     "output_type": "execute_result"
    },
    {
     "data": {
      "image/png": "[encoded data removed]",
      "text/plain": [
       "<Figure size 640x480 with 1 Axes>"
      ]
     },
     "metadata": {},
     "output_type": "display_data"
    }
   ],
   "source": [
    "import matplotlib.pyplot as plt\n",
    "\n",
    "fig, ax = plt.subplots()\n",
    "ax.loglog(nzones, err, \"x\")\n",
    "ax.loglog([nzones[0], nzones[-1]], [err[0], err[0] * (nzones[0] / nzones[-1])**4], ls=\":\")"
   ]
  },
  {
   "cell_type": "code",
   "execution_count": 20,
   "id": "cd0cff81-0f78-4b03-83e3-724aaa6ef1a5",
   "metadata": {},
   "outputs": [
    {
     "data": {
      "text/plain": [
       "<pyro.util.profile_pyro.TimerCollection at 0x7f8019b83470>"
      ]
     },
     "execution_count": 20,
     "metadata": {},
     "output_type": "execute_result"
    }
   ],
   "source": [
    "p.sim.tc"
   ]
  },
  {
   "cell_type": "code",
   "execution_count": 21,
   "id": "ef6b14d8-dd43-4be3-ac14-7a30772588a4",
   "metadata": {},
   "outputs": [
    {
     "data": {
      "text/plain": [
       "0.48828125"
      ]
     },
     "execution_count": 21,
     "metadata": {},
     "output_type": "execute_result"
    }
   ],
   "source": [
    "p.sim.cc_data.t"
   ]
  },
  {
   "cell_type": "code",
   "execution_count": 23,
   "id": "a0959990-dd88-4217-9c58-c8d153211daf",
   "metadata": {},
   "outputs": [
    {
     "data": {
      "text/plain": [
       "0.0009765625"
      ]
     },
     "execution_count": 23,
     "metadata": {},
     "output_type": "execute_result"
    }
   ],
   "source": [
    "p.sim.dt"
   ]
  },
  {
   "cell_type": "code",
   "execution_count": 25,
   "id": "e7f2ce25-2924-4083-9839-99623b8aff7f",
   "metadata": {},
   "outputs": [
    {
     "data": {
      "text/plain": [
       "0.001953125"
      ]
     },
     "execution_count": 25,
     "metadata": {},
     "output_type": "execute_result"
    }
   ],
   "source": [
    "1/256 * 0.5"
   ]
  },
  {
   "cell_type": "code",
   "execution_count": null,
   "id": "6f9dcdd8-3bfa-42d4-9928-f6d7af08c186",
   "metadata": {},
   "outputs": [],
   "source": []
  }
 ],
 "metadata": {
  "kernelspec": {
   "display_name": "Python 3 (ipykernel)",
   "language": "python",
   "name": "python3"
  },
  "language_info": {
   "codemirror_mode": {
    "name": "ipython",
    "version": 3
   },
   "file_extension": ".py",
   "mimetype": "text/x-python",
   "name": "python",
   "nbconvert_exporter": "python",
   "pygments_lexer": "ipython3",
   "version": "3.12.5"
  }
 },
 "nbformat": 4,
 "nbformat_minor": 5
}
