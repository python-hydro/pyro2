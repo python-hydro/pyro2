{
 "cells": [
  {
   "cell_type": "markdown",
   "metadata": {
    "slideshow": {
     "slide_type": "slide"
    }
   },
   "source": [
    "# Introduction to Pyro\n",
    "\n",
    "![logo](pyro_plots.png)\n",
    "\n",
    "Michael Zingale, Alice Harpole\n",
    "\n",
    "Stony Brook University"
   ]
  },
  {
   "cell_type": "markdown",
   "metadata": {
    "slideshow": {
     "slide_type": "slide"
    }
   },
   "source": [
    "## Why pyro?\n",
    "\n",
    "  * Python is a good introductory language&mdash;it helps make the way these algorithms work clearer\n",
    "\n",
    "  * High level introduction to core hydro algorithms for students\n",
    "  \n",
    "    * Supplemented with extensive notes deriving the methods ( https://github.com/Open-Astrophysics-Bookshelf/numerical_exercises)\n",
    "    \n",
    "  * Enables easy ability to rapidly prototype code&mdash;core intrastructure is in place\n",
    "  \n",
    "  * Allows for sharing exploration in Jupyter notebooks"
   ]
  },
  {
   "cell_type": "markdown",
   "metadata": {
    "slideshow": {
     "slide_type": "slide"
    }
   },
   "source": [
    "## Design ideas:\n",
    "\n",
    "  * _Clarity is emphasized over performance_\n",
    "\n",
    "  * Single driver implements core evolution\n",
    "    \n",
    "  * Object-oriented structure: each solver provides a simulation class to manage the different parts of the update\n",
    "  \n",
    "  * All solvers are 2-d: right balance of complexity and usefulness\n",
    "  \n",
    "  * Realtime visualization when run in commandline mode"
   ]
  },
  {
   "cell_type": "markdown",
   "metadata": {
    "slideshow": {
     "slide_type": "slide"
    }
   },
   "source": [
    "## History:\n",
    "\n",
    "  - _First version in 2003_: python + Numeric + C extensions\n",
    "  \n",
    "  - _May 2004_: switch to python + numarray + C extensions\n",
    "  \n",
    "    - cvs commit:\n",
    "  \n",
    "      > convert from Numeric to numarray, since numarray seems to be the future.\n",
    "        \n",
    "  - _May 2012_: revived, rewritten in python + NumPy + f2py\n",
    "  \n",
    "  - _Nov 2018_: python + NumPy + Numba"
   ]
  },
  {
   "cell_type": "markdown",
   "metadata": {
    "slideshow": {
     "slide_type": "slide"
    }
   },
   "source": [
    "## Our usage\n",
    "\n",
    "  * We start new undergraduate researchers out with pyro to learn about simulation workflows\n",
    "    * Typically have UG add a new problem setup"
   ]
  },
  {
   "cell_type": "markdown",
   "metadata": {
    "slideshow": {
     "slide_type": "slide"
    }
   },
   "source": [
    "## Current Solvers\n",
    "\n",
    "  * *linear advection*: 2nd and 4th order FV, WENO; CTU, RK, and SDC time integration\n",
    "  \n",
    "  * *compressible hydrodynamics*: 2nd order CTU PLM, 2nd order MOL RK, 4th order FV solver with RK or SDC integration\n",
    "  \n",
    "  * *shallow water hydrodynamics*\n",
    "  \n",
    "  * *multigrid*: force non-constant coefficient general elliptic equations\n",
    "  \n",
    "  * *implicit thermal diffusion*: using multigrid\n",
    "  \n",
    "  * *incompressible hydrodynamics*: 2nd order accurate approximate projection method\n",
    "  \n",
    "  * *low Mach number atmospheric hydrodynamics*: pseudo-imcompressible method\n",
    "  \n",
    "  * *special relativistic compressible hydrodynamics*"
   ]
  },
  {
   "cell_type": "markdown",
   "metadata": {
    "slideshow": {
     "slide_type": "slide"
    }
   },
   "source": [
    "## Main driver:\n",
    "\n",
    "* parse runtime parameters\n",
    "\n",
    "* setup the grid\n",
    "\n",
    "  * initialize the data for the desired problem\n",
    "\n",
    "* do any necessary pre-evolution initialization\n",
    "\n",
    "* evolve while t < tmax and n < max_steps\n",
    "\n",
    "  * fill boundary conditions\n",
    "  * get the timestep\n",
    "  * evolve for a single timestep\n",
    "  * t = t + dt\n",
    "  * output\n",
    "  * visualization\n",
    "\n",
    "* clean-up\n",
    "\n",
    "<div class=\"alert alert-block alert-info\">\n",
    "&nbsp;This driver is flexible enough for all of the time-dependent solvers\n",
    "</div>"
   ]
  },
  {
   "cell_type": "markdown",
   "metadata": {
    "slideshow": {
     "slide_type": "slide"
    }
   },
   "source": [
    "## Grids\n",
    "\n",
    "* ``patch`` module manages grids and data that lives on them\n",
    "\n",
    "* Fills boundaries, does prolongation/restriction for multigrid\n",
    "\n",
    "* Many convenience functions"
   ]
  },
  {
   "cell_type": "code",
   "execution_count": 1,
   "metadata": {
    "slideshow": {
     "slide_type": "skip"
    }
   },
   "outputs": [],
   "source": [
    "import pyro.mesh.patch as patch\n",
    "import pyro.mesh.boundary as bnd\n",
    "import numpy as np"
   ]
  },
  {
   "cell_type": "code",
   "execution_count": 2,
   "metadata": {
    "slideshow": {
     "slide_type": "fragment"
    }
   },
   "outputs": [
    {
     "name": "stdout",
     "output_type": "stream",
     "text": [
      "2-d grid: nx = 16, ny = 16, ng = 2\n"
     ]
    }
   ],
   "source": [
    "g = patch.Grid2d(16, 16, ng=2)\n",
    "print(g)"
   ]
  },
  {
   "cell_type": "code",
   "execution_count": 3,
   "metadata": {
    "slideshow": {
     "slide_type": "fragment"
    }
   },
   "outputs": [
    {
     "name": "stdout",
     "output_type": "stream",
     "text": [
      "BCs: -x: periodic  +x: periodic  -y: reflect-even  +y: outflow\n"
     ]
    }
   ],
   "source": [
    "bc = bnd.BC(xlb=\"periodic\", xrb=\"periodic\", ylb=\"reflect\", yrb=\"outflow\")\n",
    "print(bc)"
   ]
  },
  {
   "cell_type": "code",
   "execution_count": 4,
   "metadata": {
    "slideshow": {
     "slide_type": "fragment"
    }
   },
   "outputs": [
    {
     "name": "stdout",
     "output_type": "stream",
     "text": [
      "cc data: nx = 16, ny = 16, ng = 2\n",
      "         nvars = 1\n",
      "         variables:\n",
      "               a: min:    0.0000000000    max:    0.0000000000\n",
      "                  BCs: -x: periodic     +x: periodic     -y: reflect-even +y: outflow     \n",
      "\n"
     ]
    }
   ],
   "source": [
    "d = patch.CellCenterData2d(g)\n",
    "d.register_var(\"a\", bc)\n",
    "d.create()\n",
    "print(d)"
   ]
  },
  {
   "cell_type": "markdown",
   "metadata": {
    "slideshow": {
     "slide_type": "slide"
    }
   },
   "source": [
    "## Grids"
   ]
  },
  {
   "cell_type": "code",
   "execution_count": 5,
   "metadata": {
    "slideshow": {
     "slide_type": "fragment"
    }
   },
   "outputs": [],
   "source": [
    "a = d.get_var(\"a\")"
   ]
  },
  {
   "cell_type": "markdown",
   "metadata": {},
   "source": [
    "Data is stored as an ``ArrayIndexer`` object, which makes it easy to implement differencing on the entire array.\n",
    "\n",
    "To implement:\n",
    "$$ b = \\frac{a_{i+1,j} - a_{i-1,j}}{2 \\Delta x}$$"
   ]
  },
  {
   "cell_type": "code",
   "execution_count": 6,
   "metadata": {},
   "outputs": [],
   "source": [
    "b = g.scratch_array()\n",
    "b.v()[:,:] = (a.ip(1) - a.ip(-1))/(2.0*a.g.dx)"
   ]
  },
  {
   "cell_type": "markdown",
   "metadata": {
    "slideshow": {
     "slide_type": "slide"
    }
   },
   "source": [
    "## Running\n",
    "\n",
    "* Each solver has a collection of problem setups (initial conditions) and inputs files\n",
    "\n",
    "* Commandline:\n",
    "\n",
    "  ```\n",
    "  ./pyro.py solver problem inputs\n",
    "  ```\n",
    "  \n",
    "* Jupyter: all functionality accessible through `Pyro` class."
   ]
  },
  {
   "cell_type": "markdown",
   "metadata": {
    "slideshow": {
     "slide_type": "slide"
    }
   },
   "source": [
    "## Example: advection"
   ]
  },
  {
   "cell_type": "code",
   "execution_count": 7,
   "metadata": {
    "slideshow": {
     "slide_type": "fragment"
    },
    "tags": [
     "nbval-ignore-output"
    ]
   },
   "outputs": [],
   "source": [
    "from pyro import Pyro\n",
    "pyro_sim = Pyro(\"advection\")\n",
    "pyro_sim.initialize_problem(\"tophat\",\n",
    "                            inputs_dict={\"mesh.nx\": 8,\n",
    "                                         \"mesh.ny\": 8})\n",
    "pyro_sim.run_sim()"
   ]
  },
  {
   "cell_type": "markdown",
   "metadata": {
    "slideshow": {
     "slide_type": "slide"
    }
   },
   "source": [
    "## Example: advection"
   ]
  },
  {
   "cell_type": "code",
   "execution_count": 8,
   "metadata": {
    "slideshow": {
     "slide_type": "fragment"
    }
   },
   "outputs": [
    {
     "name": "stdout",
     "output_type": "stream",
     "text": [
      "\u001b[31m  0.48\u001b[0m\u001b[31m  0.16\u001b[0m\u001b[31m  0.01\u001b[0m\u001b[31m -0.00\u001b[0m\u001b[31m -0.00\u001b[0m\u001b[31m  0.02\u001b[0m\u001b[31m  0.23\u001b[0m\u001b[31m  0.48\u001b[0m\u001b[31m  0.48\u001b[0m\u001b[31m  0.16\u001b[0m\u001b[31m  0.01\u001b[0m\u001b[31m -0.00\u001b[0m\u001b[31m -0.00\u001b[0m\u001b[31m  0.02\u001b[0m\u001b[31m  0.23\u001b[0m\u001b[31m  0.48\u001b[0m \n",
      "\u001b[31m  0.23\u001b[0m\u001b[31m  0.05\u001b[0m\u001b[31m  0.00\u001b[0m\u001b[31m -0.00\u001b[0m\u001b[31m -0.01\u001b[0m\u001b[31m -0.02\u001b[0m\u001b[31m  0.09\u001b[0m\u001b[31m  0.23\u001b[0m\u001b[31m  0.23\u001b[0m\u001b[31m  0.05\u001b[0m\u001b[31m  0.00\u001b[0m\u001b[31m -0.00\u001b[0m\u001b[31m -0.01\u001b[0m\u001b[31m -0.02\u001b[0m\u001b[31m  0.09\u001b[0m\u001b[31m  0.23\u001b[0m \n",
      "\u001b[31m  0.04\u001b[0m\u001b[31m  0.01\u001b[0m\u001b[31m  0.00\u001b[0m\u001b[31m  0.00\u001b[0m\u001b[31m -0.01\u001b[0m\u001b[31m -0.02\u001b[0m\u001b[31m -0.02\u001b[0m\u001b[31m  0.02\u001b[0m\u001b[31m  0.04\u001b[0m\u001b[31m  0.01\u001b[0m\u001b[31m  0.00\u001b[0m\u001b[31m  0.00\u001b[0m\u001b[31m -0.01\u001b[0m\u001b[31m -0.02\u001b[0m\u001b[31m -0.02\u001b[0m\u001b[31m  0.02\u001b[0m \n",
      "\u001b[31m  0.00\u001b[0m\u001b[31m  0.00\u001b[0m\u001b[31m  0.00\u001b[0m\u001b[31m  0.00\u001b[0m\u001b[31m  0.00\u001b[0m\u001b[31m -0.01\u001b[0m\u001b[31m -0.01\u001b[0m\u001b[31m -0.00\u001b[0m\u001b[31m  0.00\u001b[0m\u001b[31m  0.00\u001b[0m\u001b[31m  0.00\u001b[0m\u001b[31m  0.00\u001b[0m\u001b[31m  0.00\u001b[0m\u001b[31m -0.01\u001b[0m\u001b[31m -0.01\u001b[0m\u001b[31m -0.00\u001b[0m \n",
      "\u001b[31m  0.00\u001b[0m\u001b[31m  0.00\u001b[0m\u001b[31m -0.00\u001b[0m\u001b[31m  0.00\u001b[0m  0.00  0.00 -0.00 -0.00  0.00  0.00 -0.00  0.00\u001b[31m  0.00\u001b[0m\u001b[31m  0.00\u001b[0m\u001b[31m -0.00\u001b[0m\u001b[31m -0.00\u001b[0m \n",
      "\u001b[31m  0.02\u001b[0m\u001b[31m  0.02\u001b[0m\u001b[31m  0.00\u001b[0m\u001b[31m -0.00\u001b[0m  0.00  0.00  0.00  0.01  0.02  0.02  0.00 -0.00\u001b[31m  0.00\u001b[0m\u001b[31m  0.00\u001b[0m\u001b[31m  0.00\u001b[0m\u001b[31m  0.01\u001b[0m \n",
      "\u001b[31m  0.20\u001b[0m\u001b[31m  0.12\u001b[0m\u001b[31m  0.02\u001b[0m\u001b[31m  0.00\u001b[0m  0.00  0.01  0.05  0.16  0.20  0.12  0.02  0.00\u001b[31m  0.00\u001b[0m\u001b[31m  0.01\u001b[0m\u001b[31m  0.05\u001b[0m\u001b[31m  0.16\u001b[0m \n",
      "\u001b[31m  0.49\u001b[0m\u001b[31m  0.20\u001b[0m\u001b[31m  0.02\u001b[0m\u001b[31m  0.00\u001b[0m  0.00  0.04  0.23  0.48  0.49  0.20  0.02  0.00\u001b[31m  0.00\u001b[0m\u001b[31m  0.04\u001b[0m\u001b[31m  0.23\u001b[0m\u001b[31m  0.48\u001b[0m \n",
      "\u001b[31m  0.48\u001b[0m\u001b[31m  0.16\u001b[0m\u001b[31m  0.01\u001b[0m\u001b[31m -0.00\u001b[0m -0.00  0.02  0.23  0.48  0.48  0.16  0.01 -0.00\u001b[31m -0.00\u001b[0m\u001b[31m  0.02\u001b[0m\u001b[31m  0.23\u001b[0m\u001b[31m  0.48\u001b[0m \n",
      "\u001b[31m  0.23\u001b[0m\u001b[31m  0.05\u001b[0m\u001b[31m  0.00\u001b[0m\u001b[31m -0.00\u001b[0m -0.01 -0.02  0.09  0.23  0.23  0.05  0.00 -0.00\u001b[31m -0.01\u001b[0m\u001b[31m -0.02\u001b[0m\u001b[31m  0.09\u001b[0m\u001b[31m  0.23\u001b[0m \n",
      "\u001b[31m  0.04\u001b[0m\u001b[31m  0.01\u001b[0m\u001b[31m  0.00\u001b[0m\u001b[31m  0.00\u001b[0m -0.01 -0.02 -0.02  0.02  0.04  0.01  0.00  0.00\u001b[31m -0.01\u001b[0m\u001b[31m -0.02\u001b[0m\u001b[31m -0.02\u001b[0m\u001b[31m  0.02\u001b[0m \n",
      "\u001b[31m  0.00\u001b[0m\u001b[31m  0.00\u001b[0m\u001b[31m  0.00\u001b[0m\u001b[31m  0.00\u001b[0m  0.00 -0.01 -0.01 -0.00  0.00  0.00  0.00  0.00\u001b[31m  0.00\u001b[0m\u001b[31m -0.01\u001b[0m\u001b[31m -0.01\u001b[0m\u001b[31m -0.00\u001b[0m \n",
      "\u001b[31m  0.00\u001b[0m\u001b[31m  0.00\u001b[0m\u001b[31m -0.00\u001b[0m\u001b[31m  0.00\u001b[0m\u001b[31m  0.00\u001b[0m\u001b[31m  0.00\u001b[0m\u001b[31m -0.00\u001b[0m\u001b[31m -0.00\u001b[0m\u001b[31m  0.00\u001b[0m\u001b[31m  0.00\u001b[0m\u001b[31m -0.00\u001b[0m\u001b[31m  0.00\u001b[0m\u001b[31m  0.00\u001b[0m\u001b[31m  0.00\u001b[0m\u001b[31m -0.00\u001b[0m\u001b[31m -0.00\u001b[0m \n",
      "\u001b[31m  0.02\u001b[0m\u001b[31m  0.02\u001b[0m\u001b[31m  0.00\u001b[0m\u001b[31m -0.00\u001b[0m\u001b[31m  0.00\u001b[0m\u001b[31m  0.00\u001b[0m\u001b[31m  0.00\u001b[0m\u001b[31m  0.01\u001b[0m\u001b[31m  0.02\u001b[0m\u001b[31m  0.02\u001b[0m\u001b[31m  0.00\u001b[0m\u001b[31m -0.00\u001b[0m\u001b[31m  0.00\u001b[0m\u001b[31m  0.00\u001b[0m\u001b[31m  0.00\u001b[0m\u001b[31m  0.01\u001b[0m \n",
      "\u001b[31m  0.20\u001b[0m\u001b[31m  0.12\u001b[0m\u001b[31m  0.02\u001b[0m\u001b[31m  0.00\u001b[0m\u001b[31m  0.00\u001b[0m\u001b[31m  0.01\u001b[0m\u001b[31m  0.05\u001b[0m\u001b[31m  0.16\u001b[0m\u001b[31m  0.20\u001b[0m\u001b[31m  0.12\u001b[0m\u001b[31m  0.02\u001b[0m\u001b[31m  0.00\u001b[0m\u001b[31m  0.00\u001b[0m\u001b[31m  0.01\u001b[0m\u001b[31m  0.05\u001b[0m\u001b[31m  0.16\u001b[0m \n",
      "\u001b[31m  0.49\u001b[0m\u001b[31m  0.20\u001b[0m\u001b[31m  0.02\u001b[0m\u001b[31m  0.00\u001b[0m\u001b[31m  0.00\u001b[0m\u001b[31m  0.04\u001b[0m\u001b[31m  0.23\u001b[0m\u001b[31m  0.48\u001b[0m\u001b[31m  0.49\u001b[0m\u001b[31m  0.20\u001b[0m\u001b[31m  0.02\u001b[0m\u001b[31m  0.00\u001b[0m\u001b[31m  0.00\u001b[0m\u001b[31m  0.04\u001b[0m\u001b[31m  0.23\u001b[0m\u001b[31m  0.48\u001b[0m \n",
      "\n",
      "         ^ y\n",
      "         |\n",
      "         +---> x\n",
      "        \n"
     ]
    }
   ],
   "source": [
    "dens = pyro_sim.get_var(\"density\")\n",
    "dens.pretty_print(show_ghost=True, fmt=\"%6.2f\")"
   ]
  },
  {
   "cell_type": "markdown",
   "metadata": {
    "slideshow": {
     "slide_type": "slide"
    }
   },
   "source": [
    "## Example: advection"
   ]
  },
  {
   "cell_type": "code",
   "execution_count": 9,
   "metadata": {
    "slideshow": {
     "slide_type": "fragment"
    }
   },
   "outputs": [
    {
     "data": {
      "image/png": "[encoded data removed]",
      "text/plain": [
       "<Figure size 640x480 with 2 Axes>"
      ]
     },
     "metadata": {},
     "output_type": "display_data"
    },
    {
     "data": {
      "text/plain": [
       "<Figure size 640x480 with 0 Axes>"
      ]
     },
     "metadata": {},
     "output_type": "display_data"
    }
   ],
   "source": [
    "pyro_sim.sim.dovis()"
   ]
  },
  {
   "cell_type": "markdown",
   "metadata": {
    "slideshow": {
     "slide_type": "slide"
    }
   },
   "source": [
    "## Other solvers\n",
    "\n",
    "![compressible](quad.png) \n"
   ]
  },
  {
   "cell_type": "markdown",
   "metadata": {
    "slideshow": {
     "slide_type": "slide"
    }
   },
   "source": [
    "## Other solvers\n",
    "\n",
    "![incompressible](shear.png)"
   ]
  },
  {
   "cell_type": "markdown",
   "metadata": {
    "slideshow": {
     "slide_type": "slide"
    }
   },
   "source": [
    "## Multigrid\n",
    "\n",
    "![mg](mg_hg.gif)"
   ]
  },
  {
   "cell_type": "markdown",
   "metadata": {
    "slideshow": {
     "slide_type": "slide"
    }
   },
   "source": [
    "![docs](docs.png)"
   ]
  },
  {
   "cell_type": "code",
   "execution_count": null,
   "metadata": {},
   "outputs": [],
   "source": []
  }
 ],
 "metadata": {
  "kernelspec": {
   "display_name": "Python 3 (ipykernel)",
   "language": "python",
   "name": "python3"
  },
  "language_info": {
   "codemirror_mode": {
    "name": "ipython",
    "version": 3
   },
   "file_extension": ".py",
   "mimetype": "text/x-python",
   "name": "python",
   "nbconvert_exporter": "python",
   "pygments_lexer": "ipython3",
   "version": "3.12.5"
  }
 },
 "nbformat": 4,
 "nbformat_minor": 4
}
