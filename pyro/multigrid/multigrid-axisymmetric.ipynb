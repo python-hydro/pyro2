{
 "cells": [
  {
   "cell_type": "markdown",
   "id": "d276064d-6f7d-4a68-9c46-c0a41eef0646",
   "metadata": {},
   "source": [
    "# Axisymmetric Multigrid Solver\n",
    "\n",
    "In axisymmetric coordinates ($r$-$z$), the Poisson equation appears as:\n",
    "\n",
    "$$\\frac{1}{r} \\frac{\\partial}{\\partial r} \\left ( r \\frac{\\partial \\phi}{\\partial r} \\right ) + \\frac{\\partial^2\\phi}{\\partial z^2} = f$$\n",
    "\n",
    "We will solve this with inhomogeneous Dirichlet boundary conditions on $[0, 1]^2$.  With\n",
    "\n",
    "$$f = 4z^2 + 2 r^2$$\n",
    "\n",
    "and\n",
    "\n",
    "\\begin{align}\n",
    "\\phi(r=0, z) &= 0 \\\\\n",
    "\\phi(r=1, z) &= z^2 \\\\\n",
    "\\phi(r, z=0) &= 0 \\\\\n",
    "\\phi(r, z=1) &= r^2\n",
    "\\end{align}\n",
    "\n",
    "the solution is:\n",
    "\n",
    "$$\\phi(r, z) = r^2 z^2$$"
   ]
  },
  {
   "cell_type": "markdown",
   "id": "9d8bd6c3-31e7-4eec-900f-0b9d09262316",
   "metadata": {},
   "source": [
    "## Setting up the solver\n",
    "\n",
    "We'll take the convention that `x` $\\rightarrow$ `r`, and `y` $\\rightarrow$ `z` when accessing the grid data."
   ]
  },
  {
   "cell_type": "code",
   "execution_count": 1,
   "id": "2bd555f1-d90c-4ac5-862b-4699d7e2eee9",
   "metadata": {
    "tags": []
   },
   "outputs": [],
   "source": [
    "def f(r, z):\n",
    "    return 4 * z**2 + 2 * r**2"
   ]
  },
  {
   "cell_type": "code",
   "execution_count": 2,
   "id": "af11c9e2-9c70-4075-b04a-c942e738bbf8",
   "metadata": {
    "tags": []
   },
   "outputs": [],
   "source": [
    "def rr_func(z):\n",
    "    return z**2\n",
    "\n",
    "def zr_func(r):\n",
    "    return r**2"
   ]
  },
  {
   "cell_type": "code",
   "execution_count": 3,
   "id": "b796efb7-c279-449f-9862-0748d6940bb1",
   "metadata": {
    "tags": []
   },
   "outputs": [],
   "source": [
    "def true(r, z):\n",
    "    return r**2 * z**2"
   ]
  },
  {
   "cell_type": "code",
   "execution_count": 4,
   "id": "8a663591-cc50-4042-9612-3514bbf472e2",
   "metadata": {
    "tags": []
   },
   "outputs": [],
   "source": [
    "import pyro.multigrid.axisymmetric_MG as MG"
   ]
  },
  {
   "cell_type": "code",
   "execution_count": 5,
   "id": "943a0e92-e969-4888-b5bf-827eb0f2251a",
   "metadata": {
    "tags": []
   },
   "outputs": [
    {
     "name": "stdout",
     "output_type": "stream",
     "text": [
      "cc data: nx = 2, ny = 2, ng = 1\n",
      "         nvars = 3\n",
      "         variables:\n",
      "               v: min:    0.0000000000    max:    0.0000000000\n",
      "                  BCs: -x: dirichlet    +x: dirichlet    -y: dirichlet    +y: dirichlet   \n",
      "               f: min:    0.0000000000    max:    0.0000000000\n",
      "                  BCs: -x: dirichlet    +x: dirichlet    -y: dirichlet    +y: dirichlet   \n",
      "               r: min:    0.0000000000    max:    0.0000000000\n",
      "                  BCs: -x: dirichlet    +x: dirichlet    -y: dirichlet    +y: dirichlet   \n",
      "\n",
      "cc data: nx = 4, ny = 4, ng = 1\n",
      "         nvars = 3\n",
      "         variables:\n",
      "               v: min:    0.0000000000    max:    0.0000000000\n",
      "                  BCs: -x: dirichlet    +x: dirichlet    -y: dirichlet    +y: dirichlet   \n",
      "               f: min:    0.0000000000    max:    0.0000000000\n",
      "                  BCs: -x: dirichlet    +x: dirichlet    -y: dirichlet    +y: dirichlet   \n",
      "               r: min:    0.0000000000    max:    0.0000000000\n",
      "                  BCs: -x: dirichlet    +x: dirichlet    -y: dirichlet    +y: dirichlet   \n",
      "\n",
      "cc data: nx = 8, ny = 8, ng = 1\n",
      "         nvars = 3\n",
      "         variables:\n",
      "               v: min:    0.0000000000    max:    0.0000000000\n",
      "                  BCs: -x: dirichlet    +x: dirichlet    -y: dirichlet    +y: dirichlet   \n",
      "               f: min:    0.0000000000    max:    0.0000000000\n",
      "                  BCs: -x: dirichlet    +x: dirichlet    -y: dirichlet    +y: dirichlet   \n",
      "               r: min:    0.0000000000    max:    0.0000000000\n",
      "                  BCs: -x: dirichlet    +x: dirichlet    -y: dirichlet    +y: dirichlet   \n",
      "\n",
      "cc data: nx = 16, ny = 16, ng = 1\n",
      "         nvars = 3\n",
      "         variables:\n",
      "               v: min:    0.0000000000    max:    0.0000000000\n",
      "                  BCs: -x: dirichlet    +x: dirichlet    -y: dirichlet    +y: dirichlet   \n",
      "               f: min:    0.0000000000    max:    0.0000000000\n",
      "                  BCs: -x: dirichlet    +x: dirichlet    -y: dirichlet    +y: dirichlet   \n",
      "               r: min:    0.0000000000    max:    0.0000000000\n",
      "                  BCs: -x: dirichlet    +x: dirichlet    -y: dirichlet    +y: dirichlet   \n",
      "\n",
      "cc data: nx = 32, ny = 32, ng = 1\n",
      "         nvars = 3\n",
      "         variables:\n",
      "               v: min:    0.0000000000    max:    0.0000000000\n",
      "                  BCs: -x: dirichlet    +x: dirichlet    -y: dirichlet    +y: dirichlet   \n",
      "               f: min:    0.0000000000    max:    0.0000000000\n",
      "                  BCs: -x: dirichlet    +x: dirichlet    -y: dirichlet    +y: dirichlet   \n",
      "               r: min:    0.0000000000    max:    0.0000000000\n",
      "                  BCs: -x: dirichlet    +x: dirichlet    -y: dirichlet    +y: dirichlet   \n",
      "\n"
     ]
    }
   ],
   "source": [
    "N = 32\n",
    "\n",
    "mg = MG.AxisymmetricMG2d(N, N,\n",
    "                         xl_BC_type=\"dirichlet\", xr_BC_type=\"dirichlet\",\n",
    "                         yl_BC_type=\"dirichlet\", yr_BC_type=\"dirichlet\",\n",
    "                         xr_BC=rr_func, yr_BC=zr_func, true_function=true,\n",
    "                         verbose=1)"
   ]
  },
  {
   "cell_type": "code",
   "execution_count": 6,
   "id": "77e19758-be49-4071-a8f8-cbdb2620e01e",
   "metadata": {
    "tags": []
   },
   "outputs": [
    {
     "name": "stdout",
     "output_type": "stream",
     "text": [
      "Source norm =  2.4028431443110723\n"
     ]
    }
   ],
   "source": [
    "mg.init_zeros()\n",
    "mg.init_RHS(f(mg.x2d, mg.y2d))"
   ]
  },
  {
   "cell_type": "code",
   "execution_count": 7,
   "id": "d6325d72-7261-4cba-a078-b9085c1f2ff8",
   "metadata": {
    "tags": []
   },
   "outputs": [
    {
     "name": "stdout",
     "output_type": "stream",
     "text": [
      "source norm =  2.4028431443110723\n",
      "<<< beginning V-cycle (cycle 1) >>>\n",
      "\n",
      "  level: 4, grid: 32 x 32\n",
      "  before G-S, residual L2: 2.4028431443110723\n",
      "  after G-S, residual L2: 12.949907537944354\n",
      "\n",
      "  level: 3, grid: 16 x 16\n",
      "  before G-S, residual L2: 8.851078613176675\n",
      "  after G-S, residual L2: 2.510200336301418\n",
      "\n",
      "  level: 2, grid: 8 x 8\n",
      "  before G-S, residual L2: 1.709803417983295\n",
      "  after G-S, residual L2: 0.3530965909891356\n",
      "\n",
      "  level: 1, grid: 4 x 4\n",
      "  before G-S, residual L2: 0.23964419976745627\n",
      "  after G-S, residual L2: 0.0015435410120936467\n",
      "\n",
      "  bottom solve:\n",
      "  level: 0, grid: 2 x 2\n",
      "\n",
      "  level: 1, grid: 4 x 4\n",
      "  before G-S, residual L2: 0.0018088549717517367\n",
      "  after G-S, residual L2: 1.0026872855338396e-06\n",
      "\n",
      "  level: 2, grid: 8 x 8\n",
      "  before G-S, residual L2: 0.7258102075427889\n",
      "  after G-S, residual L2: 0.007609680921336424\n",
      "\n",
      "  level: 3, grid: 16 x 16\n",
      "  before G-S, residual L2: 3.004878183732335\n",
      "  after G-S, residual L2: 0.03277677801146209\n",
      "\n",
      "  level: 4, grid: 32 x 32\n",
      "  before G-S, residual L2: 12.050024833019929\n",
      "  after G-S, residual L2: 0.19063830318826297\n",
      "\n",
      "cycle 1: relative err = 1.0000000000002403, residual err = 0.07933863832918714\n",
      "\n",
      "<<< beginning V-cycle (cycle 2) >>>\n",
      "\n",
      "  level: 4, grid: 32 x 32\n",
      "  before G-S, residual L2: 0.19063830318826297\n",
      "  after G-S, residual L2: 0.0926805547652613\n",
      "\n",
      "  level: 3, grid: 16 x 16\n",
      "  before G-S, residual L2: 0.06425201981038277\n",
      "  after G-S, residual L2: 0.02407070918527181\n",
      "\n",
      "  level: 2, grid: 8 x 8\n",
      "  before G-S, residual L2: 0.016455182610518017\n",
      "  after G-S, residual L2: 0.0043049260130849365\n",
      "\n",
      "  level: 1, grid: 4 x 4\n",
      "  before G-S, residual L2: 0.0029271166829855887\n",
      "  after G-S, residual L2: 1.8327710204196338e-05\n",
      "\n",
      "  bottom solve:\n",
      "  level: 0, grid: 2 x 2\n",
      "\n",
      "  level: 1, grid: 4 x 4\n",
      "  before G-S, residual L2: 2.1477835153368836e-05\n",
      "  after G-S, residual L2: 1.1907237712900042e-08\n",
      "\n",
      "  level: 2, grid: 8 x 8\n",
      "  before G-S, residual L2: 0.00897020761244355\n",
      "  after G-S, residual L2: 9.653883983912586e-05\n",
      "\n",
      "  level: 3, grid: 16 x 16\n",
      "  before G-S, residual L2: 0.049300464710413945\n",
      "  after G-S, residual L2: 0.00044614027356186585\n",
      "\n",
      "  level: 4, grid: 32 x 32\n",
      "  before G-S, residual L2: 0.16999414440442662\n",
      "  after G-S, residual L2: 0.0019202131720583244\n",
      "\n",
      "cycle 2: relative err = 10.978062371317007, residual err = 0.0007991421231987557\n",
      "\n",
      "<<< beginning V-cycle (cycle 3) >>>\n",
      "\n",
      "  level: 4, grid: 32 x 32\n",
      "  before G-S, residual L2: 0.0019202131720583244\n",
      "  after G-S, residual L2: 0.0010219200619397246\n",
      "\n",
      "  level: 3, grid: 16 x 16\n",
      "  before G-S, residual L2: 0.0007140734781043038\n",
      "  after G-S, residual L2: 0.0003093534580562075\n",
      "\n",
      "  level: 2, grid: 8 x 8\n",
      "  before G-S, residual L2: 0.00021337284756819334\n",
      "  after G-S, residual L2: 5.7468382932972244e-05\n",
      "\n",
      "  level: 1, grid: 4 x 4\n",
      "  before G-S, residual L2: 3.9129258918991144e-05\n",
      "  after G-S, residual L2: 2.3425278619161356e-07\n",
      "\n",
      "  bottom solve:\n",
      "  level: 0, grid: 2 x 2\n",
      "\n",
      "  level: 1, grid: 4 x 4\n",
      "  before G-S, residual L2: 2.745133430982456e-07\n",
      "  after G-S, residual L2: 1.522144018885369e-10\n",
      "\n",
      "  level: 2, grid: 8 x 8\n",
      "  before G-S, residual L2: 0.00012089821538130831\n",
      "  after G-S, residual L2: 1.3383258289960475e-06\n",
      "\n",
      "  level: 3, grid: 16 x 16\n",
      "  before G-S, residual L2: 0.001037508115565216\n",
      "  after G-S, residual L2: 1.0607738314113014e-05\n",
      "\n",
      "  level: 4, grid: 32 x 32\n",
      "  before G-S, residual L2: 0.0052861829869032435\n",
      "  after G-S, residual L2: 4.9888437474242e-05\n",
      "\n",
      "cycle 3: relative err = 2.09458302545174, residual err = 2.0762253080213313e-05\n",
      "\n",
      "<<< beginning V-cycle (cycle 4) >>>\n",
      "\n",
      "  level: 4, grid: 32 x 32\n",
      "  before G-S, residual L2: 4.9888437474242e-05\n",
      "  after G-S, residual L2: 2.538456722323062e-05\n",
      "\n",
      "  level: 3, grid: 16 x 16\n",
      "  before G-S, residual L2: 1.7843180248288583e-05\n",
      "  after G-S, residual L2: 7.693029414602172e-06\n",
      "\n",
      "  level: 2, grid: 8 x 8\n",
      "  before G-S, residual L2: 5.35608506733803e-06\n",
      "  after G-S, residual L2: 1.1551104371197595e-06\n",
      "\n",
      "  level: 1, grid: 4 x 4\n",
      "  before G-S, residual L2: 7.87278670221068e-07\n",
      "  after G-S, residual L2: 4.4297763451188705e-09\n",
      "\n",
      "  bottom solve:\n",
      "  level: 0, grid: 2 x 2\n",
      "\n",
      "  level: 1, grid: 4 x 4\n",
      "  before G-S, residual L2: 5.191043898074973e-09\n",
      "  after G-S, residual L2: 2.8790041126396894e-12\n",
      "\n",
      "  level: 2, grid: 8 x 8\n",
      "  before G-S, residual L2: 2.43932192249724e-06\n",
      "  after G-S, residual L2: 2.7890564989383105e-08\n",
      "\n",
      "  level: 3, grid: 16 x 16\n",
      "  before G-S, residual L2: 2.9949913505872747e-05\n",
      "  after G-S, residual L2: 3.3530860413328087e-07\n",
      "\n",
      "  level: 4, grid: 32 x 32\n",
      "  before G-S, residual L2: 0.00018118330298256175\n",
      "  after G-S, residual L2: 1.7285820461903024e-06\n",
      "\n",
      "cycle 4: relative err = 0.24059945376945252, residual err = 7.193902982318517e-07\n",
      "\n",
      "<<< beginning V-cycle (cycle 5) >>>\n",
      "\n",
      "  level: 4, grid: 32 x 32\n",
      "  before G-S, residual L2: 1.7285820461903024e-06\n",
      "  after G-S, residual L2: 8.644757393660188e-07\n",
      "\n",
      "  level: 3, grid: 16 x 16\n",
      "  before G-S, residual L2: 6.081052158846044e-07\n",
      "  after G-S, residual L2: 2.5731805841061746e-07\n",
      "\n",
      "  level: 2, grid: 8 x 8\n",
      "  before G-S, residual L2: 1.7954267840324867e-07\n",
      "  after G-S, residual L2: 3.454727504621579e-08\n",
      "\n",
      "  level: 1, grid: 4 x 4\n",
      "  before G-S, residual L2: 2.35532834401123e-08\n",
      "  after G-S, residual L2: 1.2802396474748287e-10\n",
      "\n",
      "  bottom solve:\n",
      "  level: 0, grid: 2 x 2\n",
      "\n",
      "  level: 1, grid: 4 x 4\n",
      "  before G-S, residual L2: 1.5002367951056565e-10\n",
      "  after G-S, residual L2: 8.321546399995043e-14\n",
      "\n",
      "  level: 2, grid: 8 x 8\n",
      "  before G-S, residual L2: 7.29271394181447e-08\n",
      "  after G-S, residual L2: 8.487866427430119e-10\n",
      "\n",
      "  level: 3, grid: 16 x 16\n",
      "  before G-S, residual L2: 1.0173339643986725e-06\n",
      "  after G-S, residual L2: 1.1609265675171233e-08\n",
      "\n",
      "  level: 4, grid: 32 x 32\n",
      "  before G-S, residual L2: 6.390999799107682e-06\n",
      "  after G-S, residual L2: 6.14053659923441e-08\n",
      "\n",
      "cycle 5: relative err = 0.008331101466533196, residual err = 2.5555295250015103e-08\n",
      "\n",
      "<<< beginning V-cycle (cycle 6) >>>\n",
      "\n",
      "  level: 4, grid: 32 x 32\n",
      "  before G-S, residual L2: 6.14053659923441e-08\n",
      "  after G-S, residual L2: 3.0550123706116485e-08\n",
      "\n",
      "  level: 3, grid: 16 x 16\n",
      "  before G-S, residual L2: 2.149229667092813e-08\n",
      "  after G-S, residual L2: 9.144022302194667e-09\n",
      "\n",
      "  level: 2, grid: 8 x 8\n",
      "  before G-S, residual L2: 6.38497722264134e-09\n",
      "  after G-S, residual L2: 1.2303742476680692e-09\n",
      "\n",
      "  level: 1, grid: 4 x 4\n",
      "  before G-S, residual L2: 8.389582140305002e-10\n",
      "  after G-S, residual L2: 4.52744417393934e-12\n",
      "\n",
      "  bottom solve:\n",
      "  level: 0, grid: 2 x 2\n",
      "\n",
      "  level: 1, grid: 4 x 4\n",
      "  before G-S, residual L2: 5.305420254183442e-12\n",
      "  after G-S, residual L2: 2.9429312028616896e-15\n",
      "\n",
      "  level: 2, grid: 8 x 8\n",
      "  before G-S, residual L2: 2.598009323501818e-09\n",
      "  after G-S, residual L2: 3.041147207346802e-11\n",
      "\n",
      "  level: 3, grid: 16 x 16\n",
      "  before G-S, residual L2: 3.679146069734179e-08\n",
      "  after G-S, residual L2: 4.1823570088659867e-10\n",
      "\n",
      "  level: 4, grid: 32 x 32\n",
      "  before G-S, residual L2: 2.303549682963893e-07\n",
      "  after G-S, residual L2: 2.2113032601875124e-09\n",
      "\n",
      "cycle 6: relative err = 0.0003640724193854146, residual err = 9.202861474428548e-10\n",
      "\n",
      "<<< beginning V-cycle (cycle 7) >>>\n",
      "\n",
      "  level: 4, grid: 32 x 32\n",
      "  before G-S, residual L2: 2.2113032601875124e-09\n",
      "  after G-S, residual L2: 1.0985112981199566e-09\n",
      "\n",
      "  level: 3, grid: 16 x 16\n",
      "  before G-S, residual L2: 7.728639267937154e-10\n",
      "  after G-S, residual L2: 3.3290872814456365e-10\n",
      "\n",
      "  level: 2, grid: 8 x 8\n",
      "  before G-S, residual L2: 2.3257305304952835e-10\n",
      "  after G-S, residual L2: 4.6050544673307166e-11\n",
      "\n",
      "  level: 1, grid: 4 x 4\n",
      "  before G-S, residual L2: 3.140392361594173e-11\n",
      "  after G-S, residual L2: 1.6964280734776735e-13\n",
      "\n",
      "  bottom solve:\n",
      "  level: 0, grid: 2 x 2\n",
      "\n",
      "  level: 1, grid: 4 x 4\n",
      "  before G-S, residual L2: 1.9879316605375316e-13\n",
      "  after G-S, residual L2: 1.1027163641068267e-16\n",
      "\n",
      "  level: 2, grid: 8 x 8\n",
      "  before G-S, residual L2: 9.729587284099105e-11\n",
      "  after G-S, residual L2: 1.1405976655701914e-12\n",
      "\n",
      "  level: 3, grid: 16 x 16\n",
      "  before G-S, residual L2: 1.3626014840494129e-09\n",
      "  after G-S, residual L2: 1.538230110731059e-11\n",
      "\n",
      "  level: 4, grid: 32 x 32\n",
      "  before G-S, residual L2: 8.437345807443207e-09\n",
      "  after G-S, residual L2: 8.074879380280347e-11\n",
      "\n",
      "cycle 7: relative err = 1.4977300083815499e-05, residual err = 3.36055201913545e-11\n",
      "\n",
      "<<< beginning V-cycle (cycle 8) >>>\n",
      "\n",
      "  level: 4, grid: 32 x 32\n",
      "  before G-S, residual L2: 8.074879380280347e-11\n",
      "  after G-S, residual L2: 4.0107708458269646e-11\n",
      "\n",
      "  level: 3, grid: 16 x 16\n",
      "  before G-S, residual L2: 2.8219552226511976e-11\n",
      "  after G-S, residual L2: 1.2298073043642456e-11\n",
      "\n",
      "  level: 2, grid: 8 x 8\n",
      "  before G-S, residual L2: 8.594525845722229e-12\n",
      "  after G-S, residual L2: 1.7431864268113942e-12\n",
      "\n",
      "  level: 1, grid: 4 x 4\n",
      "  before G-S, residual L2: 1.1888381167532685e-12\n",
      "  after G-S, residual L2: 6.43470558359894e-15\n",
      "\n",
      "  bottom solve:\n",
      "  level: 0, grid: 2 x 2\n",
      "\n",
      "  level: 1, grid: 4 x 4\n",
      "  before G-S, residual L2: 7.54040012905408e-15\n",
      "  after G-S, residual L2: 4.182692295487174e-18\n",
      "\n",
      "  level: 2, grid: 8 x 8\n",
      "  before G-S, residual L2: 3.684697011767843e-12\n",
      "  after G-S, residual L2: 4.321110684251904e-14\n",
      "\n",
      "  level: 3, grid: 16 x 16\n",
      "  before G-S, residual L2: 5.09793376542744e-11\n",
      "  after G-S, residual L2: 5.723202162194525e-13\n",
      "\n",
      "  level: 4, grid: 32 x 32\n",
      "  before G-S, residual L2: 3.125457048392291e-10\n",
      "  after G-S, residual L2: 2.9832702148195685e-12\n",
      "\n",
      "cycle 8: relative err = 5.979790854009595e-07, residual err = 1.2415584520707083e-12\n",
      "\n"
     ]
    }
   ],
   "source": [
    "mg.solve()"
   ]
  },
  {
   "cell_type": "code",
   "execution_count": 8,
   "id": "8e84724b-2c51-4d88-b243-e892547f445a",
   "metadata": {
    "tags": []
   },
   "outputs": [],
   "source": [
    "v = mg.get_solution()"
   ]
  },
  {
   "cell_type": "code",
   "execution_count": 9,
   "id": "f6ea0519-6c94-4074-95b8-09d8fd4fe42d",
   "metadata": {
    "tags": []
   },
   "outputs": [],
   "source": [
    "import numpy as np\n",
    "import matplotlib.pyplot as plt"
   ]
  },
  {
   "cell_type": "code",
   "execution_count": 10,
   "id": "b246b1be-a7be-4070-a56e-fa2d1242350c",
   "metadata": {
    "tags": []
   },
   "outputs": [
    {
     "data": {
      "text/plain": [
       "<matplotlib.colorbar.Colorbar at 0x7ff98cff9450>"
      ]
     },
     "execution_count": 10,
     "metadata": {},
     "output_type": "execute_result"
    },
    {
     "data": {
      "image/png": "[encoded data removed]",
      "text/plain": [
       "<Figure size 432x288 with 2 Axes>"
      ]
     },
     "metadata": {
      "needs_background": "light"
     },
     "output_type": "display_data"
    }
   ],
   "source": [
    "fig, ax = plt.subplots()\n",
    "im = ax.imshow(np.transpose(v.v()), origin=\"lower\")\n",
    "fig.colorbar(im, ax=ax)"
   ]
  },
  {
   "cell_type": "code",
   "execution_count": 11,
   "id": "14d6cd34-62a6-4c75-a39b-5aedbbc97c93",
   "metadata": {
    "tags": []
   },
   "outputs": [],
   "source": [
    "e = v - true(mg.x2d, mg.y2d)"
   ]
  },
  {
   "cell_type": "code",
   "execution_count": 12,
   "id": "13e70155-7822-48cc-90ac-08199b0634c2",
   "metadata": {
    "tags": []
   },
   "outputs": [
    {
     "name": "stdout",
     "output_type": "stream",
     "text": [
      "0.000617617264475653\n"
     ]
    }
   ],
   "source": [
    "print(np.abs(e).max())"
   ]
  },
  {
   "cell_type": "code",
   "execution_count": 13,
   "id": "aee1546b-2652-4b65-a02e-c3b507973676",
   "metadata": {
    "tags": []
   },
   "outputs": [
    {
     "data": {
      "text/plain": [
       "<matplotlib.colorbar.Colorbar at 0x7ff98ada9850>"
      ]
     },
     "execution_count": 13,
     "metadata": {},
     "output_type": "execute_result"
    },
    {
     "data": {
      "image/png": "[encoded data removed]",
      "text/plain": [
       "<Figure size 432x288 with 2 Axes>"
      ]
     },
     "metadata": {
      "needs_background": "light"
     },
     "output_type": "display_data"
    }
   ],
   "source": [
    "fig, ax = plt.subplots()\n",
    "im = ax.imshow(np.transpose(e.v()), origin=\"lower\")\n",
    "fig.colorbar(im, ax=ax)"
   ]
  },
  {
   "cell_type": "code",
   "execution_count": 14,
   "id": "cc53046f-d3f2-46b6-ba1c-9f80eca9b10c",
   "metadata": {
    "tags": []
   },
   "outputs": [
    {
     "data": {
      "text/plain": [
       "8.044915834004946e-05"
      ]
     },
     "execution_count": 14,
     "metadata": {},
     "output_type": "execute_result"
    }
   ],
   "source": [
    "e.norm()"
   ]
  },
  {
   "cell_type": "code",
   "execution_count": 15,
   "id": "923f23f0-8879-4a45-a6d7-0443a11c393b",
   "metadata": {
    "tags": []
   },
   "outputs": [
    {
     "name": "stdout",
     "output_type": "stream",
     "text": [
      "2.9832702148195685e-12\n"
     ]
    }
   ],
   "source": [
    "res = mg._compute_residual(mg.nlevels-1)\n",
    "print(mg.grids[mg.nlevels-1].get_var(\"r\").norm())"
   ]
  },
  {
   "cell_type": "code",
   "execution_count": 16,
   "id": "cd76edcc-228f-4448-9fb4-ad7d434a6c13",
   "metadata": {
    "tags": []
   },
   "outputs": [
    {
     "name": "stdout",
     "output_type": "stream",
     "text": [
      "2.1026179561330153e-13\n",
      "9.578225232788658e-14\n",
      "7.273262526067396e-14\n",
      "6.897528548269955e-14\n",
      "6.897184446661625e-14\n",
      "6.756122004635183e-14\n",
      "6.733362509180792e-14\n",
      "6.86361322648682e-14\n",
      "6.754540465868575e-14\n",
      "6.733362509134965e-14\n"
     ]
    }
   ],
   "source": [
    "for i in range(10):\n",
    "    mg.smooth(mg.nlevels-1, 100)\n",
    "    mg.grids[mg.nlevels-1].fill_BC(\"v\")\n",
    "    mg._compute_residual(mg.nlevels-1)\n",
    "    print(mg.grids[mg.nlevels-1].get_var(\"r\").norm())"
   ]
  },
  {
   "cell_type": "code",
   "execution_count": 17,
   "id": "cbf53be4-e327-4a26-bf71-27e954449306",
   "metadata": {
    "tags": []
   },
   "outputs": [],
   "source": [
    "r = mg.grids[mg.nlevels-1].get_var(\"r\")"
   ]
  },
  {
   "cell_type": "code",
   "execution_count": 18,
   "id": "e608eabf-2253-4bfa-8b64-6fde3f1f60af",
   "metadata": {
    "tags": []
   },
   "outputs": [
    {
     "data": {
      "text/plain": [
       "<matplotlib.colorbar.Colorbar at 0x7ff98ac9f5d0>"
      ]
     },
     "execution_count": 18,
     "metadata": {},
     "output_type": "execute_result"
    },
    {
     "data": {
      "image/png": "[encoded data removed]",
      "text/plain": [
       "<Figure size 432x288 with 2 Axes>"
      ]
     },
     "metadata": {
      "needs_background": "light"
     },
     "output_type": "display_data"
    }
   ],
   "source": [
    "fig, ax = plt.subplots()\n",
    "\n",
    "im = ax.imshow(np.transpose(r.v()), origin=\"lower\")\n",
    "fig.colorbar(im, ax=ax)"
   ]
  },
  {
   "cell_type": "code",
   "execution_count": 19,
   "id": "76929fea-527a-4e7e-9bf2-d0af4c320d07",
   "metadata": {
    "tags": []
   },
   "outputs": [
    {
     "name": "stdout",
     "output_type": "stream",
     "text": [
      "[[ 0.000e+00  0.000e+00  0.000e+00 ...  0.000e+00  0.000e+00  0.000e+00]\n",
      " [ 0.000e+00  0.000e+00  1.735e-18 ... -4.441e-16  0.000e+00  0.000e+00]\n",
      " [ 0.000e+00  1.735e-18 -3.469e-18 ... -8.882e-16 -1.332e-15  0.000e+00]\n",
      " ...\n",
      " [ 0.000e+00  0.000e+00  6.661e-16 ...  7.461e-14  2.789e-13  0.000e+00]\n",
      " [ 0.000e+00  0.000e+00 -1.332e-15 ...  3.464e-14 -2.887e-13  0.000e+00]\n",
      " [ 0.000e+00  0.000e+00  0.000e+00 ...  0.000e+00  0.000e+00  0.000e+00]]\n"
     ]
    }
   ],
   "source": [
    "print(r)"
   ]
  },
  {
   "cell_type": "markdown",
   "id": "5a479f57-aced-49d1-8f27-ae7e34cae5a9",
   "metadata": {},
   "source": [
    "## Convergence "
   ]
  },
  {
   "cell_type": "code",
   "execution_count": 22,
   "id": "e7043f56-2038-4d79-9082-1d7641ca98ee",
   "metadata": {
    "tags": []
   },
   "outputs": [
    {
     "name": "stdout",
     "output_type": "stream",
     "text": [
      "N = 32, error = 8.044915834004946e-05\n",
      "N = 64, error = 2.0120304937333502e-05\n",
      "N = 128, error = 5.03080680318748e-06\n",
      "N = 256, error = 1.2577618783599838e-06\n"
     ]
    }
   ],
   "source": [
    "for N in [32, 64, 128, 256]:\n",
    "    mg = MG.AxisymmetricMG2d(N, N,\n",
    "                         xl_BC_type=\"dirichlet\", xr_BC_type=\"dirichlet\",\n",
    "                         yl_BC_type=\"dirichlet\", yr_BC_type=\"dirichlet\",\n",
    "                         xr_BC=rr_func, yr_BC=zr_func, true_function=true,\n",
    "                         verbose=0)\n",
    "    mg.init_zeros()\n",
    "    mg.init_RHS(f(mg.x2d, mg.y2d))\n",
    "    mg.solve()\n",
    "    v = mg.get_solution()\n",
    "    e = v - true(mg.x2d, mg.y2d)\n",
    "    print(f\"N = {N}, error = {e.norm()}\")"
   ]
  },
  {
   "cell_type": "code",
   "execution_count": null,
   "id": "8b21f2c2-c105-44b9-9e1e-b6e3e384f1c0",
   "metadata": {},
   "outputs": [],
   "source": []
  }
 ],
 "metadata": {
  "kernelspec": {
   "display_name": "Python 3 (ipykernel)",
   "language": "python",
   "name": "python3"
  },
  "language_info": {
   "codemirror_mode": {
    "name": "ipython",
    "version": 3
   },
   "file_extension": ".py",
   "mimetype": "text/x-python",
   "name": "python",
   "nbconvert_exporter": "python",
   "pygments_lexer": "ipython3",
   "version": "3.11.2"
  }
 },
 "nbformat": 4,
 "nbformat_minor": 5
}
