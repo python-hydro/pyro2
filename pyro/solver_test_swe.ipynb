{
 "cells": [
  {
   "cell_type": "code",
   "execution_count": 1,
   "metadata": {},
   "outputs": [],
   "source": [
    "from pyro import Pyro\n",
    "solver = \"swe\""
   ]
  },
  {
   "cell_type": "markdown",
   "metadata": {},
   "source": [
    "## Acoustic pulse"
   ]
  },
  {
   "cell_type": "code",
   "execution_count": 2,
   "metadata": {},
   "outputs": [],
   "source": [
    "problem_name = \"acoustic_pulse\"\n",
    "param_file = \"inputs.acoustic_pulse\"\n",
    "other_commands = [\"driver.max_steps=1\", \"mesh.nx=8\",  \"mesh.ny=8\"]"
   ]
  },
  {
   "cell_type": "code",
   "execution_count": 3,
   "metadata": {
    "tags": [
     "nbval-ignore-output"
    ]
   },
   "outputs": [
    {
     "name": "stderr",
     "output_type": "stream",
     "text": [
      "/raid/zingale/development/pyro2/pyro/swe/interface.py:197: NumbaPerformanceWarning: np.dot() is faster on contiguous arrays, called on (Array(float64, 1, 'C', False, aligned=True), Array(float64, 1, 'A', False, aligned=True))\n",
      "  sum_l = np.dot(betal, rvec[:, m])\n"
     ]
    }
   ],
   "source": [
    "pyro_sim = Pyro(solver)\n",
    "pyro_sim.initialize_problem(problem_name, inputs_file=param_file, other_commands=other_commands)\n",
    "pyro_sim.run_sim()"
   ]
  },
  {
   "cell_type": "code",
   "execution_count": 4,
   "metadata": {},
   "outputs": [
    {
     "name": "stdout",
     "output_type": "stream",
     "text": [
      "       1.4       1.4       1.4       1.4       1.4       1.4       1.4       1.4 \n",
      "       1.4       1.4    1.4001    1.4007    1.4007    1.4001       1.4       1.4 \n",
      "       1.4    1.4001    1.4043    1.4219    1.4219    1.4043    1.4001       1.4 \n",
      "       1.4    1.4007    1.4219    1.4973    1.4973    1.4219    1.4007       1.4 \n",
      "       1.4    1.4007    1.4219    1.4973    1.4973    1.4219    1.4007       1.4 \n",
      "       1.4    1.4001    1.4043    1.4219    1.4219    1.4043    1.4001       1.4 \n",
      "       1.4       1.4    1.4001    1.4007    1.4007    1.4001       1.4       1.4 \n",
      "       1.4       1.4       1.4       1.4       1.4       1.4       1.4       1.4 \n",
      "\n",
      "         ^ y\n",
      "         |\n",
      "         +---> x\n",
      "        \n"
     ]
    }
   ],
   "source": [
    "p = pyro_sim.sim.cc_data.get_var(\"height\")\n",
    "p.pretty_print(show_ghost=False)"
   ]
  },
  {
   "cell_type": "markdown",
   "metadata": {},
   "source": [
    "## Advect"
   ]
  },
  {
   "cell_type": "code",
   "execution_count": 5,
   "metadata": {},
   "outputs": [],
   "source": [
    "problem_name = \"advect\"\n",
    "param_file = \"inputs.advect\"\n",
    "other_commands = [\"driver.max_steps=1\", \"mesh.nx=8\",  \"mesh.ny=8\", \"swe.riemann=HLLC\"]"
   ]
  },
  {
   "cell_type": "code",
   "execution_count": 6,
   "metadata": {
    "tags": [
     "nbval-ignore-output"
    ]
   },
   "outputs": [
    {
     "name": "stdout",
     "output_type": "stream",
     "text": [
      "\n",
      "          \n"
     ]
    }
   ],
   "source": [
    "pyro_sim = Pyro(solver)\n",
    "pyro_sim.initialize_problem(problem_name, inputs_file=param_file, other_commands=other_commands)\n",
    "pyro_sim.run_sim()"
   ]
  },
  {
   "cell_type": "code",
   "execution_count": 7,
   "metadata": {},
   "outputs": [
    {
     "name": "stdout",
     "output_type": "stream",
     "text": [
      "         1         1   0.99998   0.99985   0.99985   0.99998         1         1 \n",
      "         1         1    1.0003     1.002     1.002    1.0003         1         1 \n",
      "         1    1.0003    1.0151    1.0996    1.1005     1.016    1.0003   0.99998 \n",
      "         1    1.0021    1.0945    1.6239    1.6298    1.1005     1.002   0.99985 \n",
      "         1     1.002    1.0936     1.618    1.6239    1.0996     1.002   0.99985 \n",
      "         1    1.0003    1.0142    1.0936    1.0945    1.0151    1.0003   0.99998 \n",
      "         1         1    1.0003     1.002    1.0021    1.0003         1         1 \n",
      "         1         1         1         1         1         1         1         1 \n",
      "\n",
      "         ^ y\n",
      "         |\n",
      "         +---> x\n",
      "        \n"
     ]
    }
   ],
   "source": [
    "p = pyro_sim.sim.cc_data.get_var(\"x-momentum\")\n",
    "p.pretty_print(show_ghost=False)"
   ]
  },
  {
   "cell_type": "markdown",
   "metadata": {},
   "source": [
    "## Dam"
   ]
  },
  {
   "cell_type": "code",
   "execution_count": 8,
   "metadata": {},
   "outputs": [],
   "source": [
    "problem_name = \"dam\"\n",
    "param_file = \"inputs.dam.x\"\n",
    "other_commands = [\"driver.max_steps=1\", \"mesh.nx=16\",  \"mesh.ny=4\"]"
   ]
  },
  {
   "cell_type": "code",
   "execution_count": 9,
   "metadata": {
    "tags": [
     "nbval-ignore-output"
    ]
   },
   "outputs": [
    {
     "name": "stdout",
     "output_type": "stream",
     "text": [
      "\n",
      "          The script analysis/dam_compare.py can be used to compare\n",
      "          this output to the exact solution.\n",
      "          \n"
     ]
    }
   ],
   "source": [
    "pyro_sim = Pyro(solver)\n",
    "pyro_sim.initialize_problem(problem_name, inputs_file=param_file, other_commands=other_commands)\n",
    "pyro_sim.run_sim()"
   ]
  },
  {
   "cell_type": "code",
   "execution_count": 10,
   "metadata": {},
   "outputs": [
    {
     "name": "stdout",
     "output_type": "stream",
     "text": [
      "         0         0         0         0         0         0         0         0         0         0         0         0         0         0         0         0 \n",
      "         0         0         0         0         0         0         0         0         0         0         0         0         0         0         0         0 \n",
      "         0         0         0         0         0         0         0         0         0         0         0         0         0         0         0         0 \n",
      "         0         0         0         0         0         0         0         0         0         0         0         0         0         0         0         0 \n",
      "\n",
      "         ^ y\n",
      "         |\n",
      "         +---> x\n",
      "        \n"
     ]
    }
   ],
   "source": [
    "p = pyro_sim.sim.cc_data.get_var(\"y-momentum\")\n",
    "p.pretty_print(show_ghost=False)"
   ]
  },
  {
   "cell_type": "markdown",
   "metadata": {},
   "source": [
    "## Kelvin-Helmholtz"
   ]
  },
  {
   "cell_type": "code",
   "execution_count": 11,
   "metadata": {},
   "outputs": [],
   "source": [
    "problem_name = \"kh\"\n",
    "param_file = \"inputs.kh\"\n",
    "other_commands = [\"driver.max_steps=1\", \"mesh.nx=16\",  \"mesh.ny=8\"]"
   ]
  },
  {
   "cell_type": "code",
   "execution_count": 12,
   "metadata": {
    "tags": [
     "nbval-ignore-output"
    ]
   },
   "outputs": [
    {
     "name": "stdout",
     "output_type": "stream",
     "text": [
      "\u001b[33mwarning, key: io.tplot not defined\u001b[0m\n"
     ]
    }
   ],
   "source": [
    "pyro_sim = Pyro(solver)\n",
    "pyro_sim.initialize_problem(problem_name, inputs_file=param_file, other_commands=other_commands)\n",
    "pyro_sim.run_sim()"
   ]
  },
  {
   "cell_type": "code",
   "execution_count": 13,
   "metadata": {},
   "outputs": [
    {
     "name": "stdout",
     "output_type": "stream",
     "text": [
      "   0.99972   0.99972   0.99972   0.99972   0.99972   0.99972   0.99972   0.99972   0.99972   0.99972   0.99972   0.99972   0.99972   0.99972   0.99972   0.99972 \n",
      "   0.95895   0.95893   0.95893   0.95895   0.95896   0.95896   0.95896   0.95896   0.95895   0.95893   0.95893   0.95895   0.95896   0.95896   0.95896   0.95896 \n",
      "  0.041042   0.04104   0.04104  0.041042  0.041052  0.041065  0.041065  0.041052  0.041042   0.04104   0.04104  0.041042  0.041052  0.041065  0.041065  0.041052 \n",
      "0.000276540.000276540.000276540.000276540.000276540.000276540.000276540.000276540.000276540.000276540.000276540.000276540.000276540.000276540.000276540.00027654 \n",
      "0.000276540.000276540.000276540.000276540.000276540.000276540.000276540.000276540.000276540.000276540.000276540.000276540.000276540.000276540.000276540.00027654 \n",
      "  0.041052  0.041065  0.041065  0.041052  0.041042   0.04104   0.04104  0.041042  0.041052  0.041065  0.041065  0.041052  0.041042   0.04104   0.04104  0.041042 \n",
      "   0.95896   0.95896   0.95896   0.95896   0.95895   0.95893   0.95893   0.95895   0.95896   0.95896   0.95896   0.95896   0.95895   0.95893   0.95893   0.95895 \n",
      "   0.99972   0.99972   0.99972   0.99972   0.99972   0.99972   0.99972   0.99972   0.99972   0.99972   0.99972   0.99972   0.99972   0.99972   0.99972   0.99972 \n",
      "\n",
      "         ^ y\n",
      "         |\n",
      "         +---> x\n",
      "        \n"
     ]
    }
   ],
   "source": [
    "f = pyro_sim.sim.cc_data.get_var(\"fuel\")\n",
    "f.pretty_print(show_ghost=False)"
   ]
  },
  {
   "cell_type": "markdown",
   "metadata": {},
   "source": [
    "## Quad"
   ]
  },
  {
   "cell_type": "code",
   "execution_count": 14,
   "metadata": {},
   "outputs": [],
   "source": [
    "problem_name = \"quad\"\n",
    "param_file = \"inputs.quad\"\n",
    "other_commands = [\"driver.max_steps=1\", \"mesh.nx=8\",  \"mesh.ny=8\"]"
   ]
  },
  {
   "cell_type": "code",
   "execution_count": 15,
   "metadata": {
    "tags": [
     "nbval-ignore-output"
    ]
   },
   "outputs": [],
   "source": [
    "pyro_sim = Pyro(solver)\n",
    "pyro_sim.initialize_problem(problem_name, inputs_file=param_file, other_commands=other_commands)\n",
    "pyro_sim.run_sim()"
   ]
  },
  {
   "cell_type": "code",
   "execution_count": 16,
   "metadata": {},
   "outputs": [
    {
     "name": "stdout",
     "output_type": "stream",
     "text": [
      "   0.53226   0.53226   0.53226   0.53226   0.53226   0.53434    1.4006       1.4 \n",
      "   0.53261   0.53261   0.53261   0.53261   0.53261   0.53469    1.4011    1.4006 \n",
      "   0.13833   0.13833   0.13833   0.13833   0.13833   0.13868   0.53469   0.53434 \n",
      "   0.13799   0.13799   0.13799   0.13799   0.13799   0.13833   0.53261   0.53226 \n",
      "   0.13799   0.13799   0.13799   0.13799   0.13799   0.13833   0.53261   0.53226 \n",
      "   0.13799   0.13799   0.13799   0.13799   0.13799   0.13833   0.53261   0.53226 \n",
      "   0.13799   0.13799   0.13799   0.13799   0.13799   0.13833   0.53261   0.53226 \n",
      "   0.13799   0.13799   0.13799   0.13799   0.13799   0.13833   0.53261   0.53226 \n",
      "\n",
      "         ^ y\n",
      "         |\n",
      "         +---> x\n",
      "        \n"
     ]
    }
   ],
   "source": [
    "p = pyro_sim.sim.cc_data.get_var(\"height\")\n",
    "p.pretty_print(show_ghost=False)"
   ]
  }
 ],
 "metadata": {
  "kernelspec": {
   "display_name": "Python 3 (ipykernel)",
   "language": "python",
   "name": "python3"
  },
  "language_info": {
   "codemirror_mode": {
    "name": "ipython",
    "version": 3
   },
   "file_extension": ".py",
   "mimetype": "text/x-python",
   "name": "python",
   "nbconvert_exporter": "python",
   "pygments_lexer": "ipython3",
   "version": "3.12.5"
  }
 },
 "nbformat": 4,
 "nbformat_minor": 4
}
